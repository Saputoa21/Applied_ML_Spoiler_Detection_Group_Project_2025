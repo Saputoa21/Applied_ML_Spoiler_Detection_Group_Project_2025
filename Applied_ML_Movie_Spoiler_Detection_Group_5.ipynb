{
  "nbformat": 4,
  "nbformat_minor": 0,
  "metadata": {
    "colab": {
      "provenance": [],
      "include_colab_link": true
    },
    "kernelspec": {
      "name": "python3",
      "display_name": "Python 3"
    },
    "language_info": {
      "name": "python"
    }
  },
  "cells": [
    {
      "cell_type": "markdown",
      "metadata": {
        "id": "view-in-github",
        "colab_type": "text"
      },
      "source": [
        "<a href=\"https://colab.research.google.com/github/Saputoa21/Applied_ML_Spoiler_Detection_Group_Project_2025/blob/main/Applied_ML_Movie_Spoiler_Detection_Group_5.ipynb\" target=\"_parent\"><img src=\"https://colab.research.google.com/assets/colab-badge.svg\" alt=\"Open In Colab\"/></a>"
      ]
    },
    {
      "cell_type": "markdown",
      "source": [
        "# **Applied ML - Movie Spoiler Detection**\n",
        "\n",
        "## Group 5: Arina Antonova, Anastasiya Saputo, Juliana Schöner, Milica Djordjevic\n",
        "\n",
        "### Project Description\n",
        "The project ...\n",
        "\n",
        "\n",
        "### Workflow\n",
        "\n",
        "1.   Loading the Dataset\n",
        "2.   Analysing the Dataset\n",
        "3.   Classical ML\n",
        "  1.   Decision Tree    \n",
        "  2.   Random Forest\n",
        "  3.   Naive Bayes\n",
        "4.   NLMs\n",
        "  1.   Fine-tuning general pre-trained model\n",
        "  2.   Fine-tuning fine-tuned model on spoiler detection\n",
        "5. Comparison"
      ],
      "metadata": {
        "id": "jC8m9IWTGu8w"
      }
    },
    {
      "cell_type": "code",
      "source": [
        "from google.colab import drive\n",
        "drive.mount('/content/drive')"
      ],
      "metadata": {
        "colab": {
          "base_uri": "https://localhost:8080/"
        },
        "id": "-Wb9VF-a2G1T",
        "outputId": "92724c99-f00a-403b-a15a-5a53395ff7c6"
      },
      "execution_count": null,
      "outputs": [
        {
          "output_type": "stream",
          "name": "stdout",
          "text": [
            "Mounted at /content/drive\n"
          ]
        }
      ]
    },
    {
      "cell_type": "markdown",
      "source": [
        "## **1. Loading Datasets**"
      ],
      "metadata": {
        "id": "ZYARxeuhOcTx"
      }
    },
    {
      "cell_type": "markdown",
      "source": [
        "Misra, Rishabh. \"IMDB Spoiler Dataset.\" DOI: 10.13140/RG.2.2.11584.15362 (2019)."
      ],
      "metadata": {
        "id": "V8TfVPTheZEl"
      }
    },
    {
      "cell_type": "markdown",
      "source": [
        "The files should be uploaded left in the \"files\" directory"
      ],
      "metadata": {
        "id": "_FEgEbbk4uNx"
      }
    },
    {
      "cell_type": "code",
      "source": [
        "import pandas as pd\n",
        "import zipfile\n",
        "import os\n",
        "from google.colab import files"
      ],
      "metadata": {
        "id": "UEabQPkQJ76G"
      },
      "execution_count": 1,
      "outputs": []
    },
    {
      "cell_type": "markdown",
      "source": [
        "### Dataset with plot summaries"
      ],
      "metadata": {
        "id": "90Xo7mKd5WIS"
      }
    },
    {
      "cell_type": "code",
      "source": [
        "import json\n",
        "\n",
        "file_path1 = '/content/IMDB_movie_details.json'\n",
        "with open(file_path1, 'r', encoding='utf-8') as f:\n",
        "    for i in range(5):\n",
        "        print(f.readline())"
      ],
      "metadata": {
        "colab": {
          "base_uri": "https://localhost:8080/"
        },
        "id": "IrBdBR9J2zff",
        "outputId": "5fdfb89e-95b2-4277-9be2-b2f822738f59"
      },
      "execution_count": 2,
      "outputs": [
        {
          "output_type": "stream",
          "name": "stdout",
          "text": [
            "{\"movie_id\": \"tt0105112\", \"plot_summary\": \"Former CIA analyst, Jack Ryan is in England with his family on vacation when he suddenly witnesses an explosion outside Buckingham Palace. It is revealed that some people are trying to abduct a member of the Royal Family but Jack intervenes, killing one of them and capturing the other, and stops the plan in its tracks. Afterwards, he learns that they're Irish revolutionaries and the two men are brothers. During his court hearing the one that's still alive vows to get back at Jack but is sentenced and that seems to be the end of it. However, whilst the man is being transported, he is broken out. Jack learns of this but doesn't think there's anything to worry about. But, when he is at the Naval Academy someone tries to kill him. He learns that they are also going after his family and so he rushes to find them, safe but having also been the victims of a failed assassination. That's when Jack decides to rejoin the CIA, and they try to find the man before he makes another attempt.                Written by\\nrcs0411@yahoo.com\", \"duration\": \"1h 57min\", \"genre\": [\"Action\", \"Thriller\"], \"rating\": \"6.9\", \"release_date\": \"1992-06-05\", \"plot_synopsis\": \"Jack Ryan (Ford) is on a \\\"working vacation\\\" in London with his family. He has retired from the CIA and is a Professor at the US Naval Academy. He is seen delivering a lecture at the Royal Naval Academy in London.Meanwhile, Ryan's wife Cathy and daughter Sally are sightseeing near Buckingham Palace. Sally and Cathy come upon a British Royal Guard, and Sally tries to get the guard to react by doing an improvised tap dance in front of him. She's impressed when the guard, trained to ignore distraction, doesn't react at all, and they leave.As Sally and Cathy walk away from the guard, en route to rendezvous with Ryan, they walk by a stolen cab, in which sit three Ulster Liberation Army terrorists: Kevin O'Donnell, the driver, as well as Sean Miller (Sean Bean) and his younger brother Patrick. The three are loading bullets into their guns as they prepare to carry out a scheduled ambush on Lord William Holmes, British Secretary of State for Northern Ireland and a distant member of the British Royal Family (the cousin of the Queen Mother). As they finish loading their weapons, another terrorist, Annette, radios to them that Lord Holmes is leaving the palace with his wife and son.As Lord Holmes's car leaves the palace, the terrorists' car falls in line behind him. They follow the car, headed for the ambush point. As they drive, O'Donnell and the Miller brothers don ski masks.Meanwhile, Ryan is about to cross the street to meet with his wife and daughter. He arrives at the same time that Lord Holmes's car is passing through the area.Suddenly, another cab, parked on the side of the road, driven by Annette, pulls out and swerves in front of Lord Holmes's vehicle. Simultaneously, O'Donnell's vehicle swerves to a stop behind the car. The Millers and another accomplice jump out and quickly plant a bomb underneath the chauffeured car's engine. Ryan sees what's going on and hastily gets his family to cover just as the bomb is detonated. Moments later, Sean and another accomplice begin shooting into the car, riddling Lord Holmes's driver and bodyguard with bullet. The onslaught of bullets does not kill Lord Holmes, who is currently using his body to shield his family. Sean marches over to the rear door and orders Lord Holmes out of the car at gunpoint. Ryan, unable to stand being just a bystander, immediately breaks cover, runs up behind Miller, and disarms him. As Ryan grabs Sean's pistol, he gets shot in the left shoulder by another terrorist. He shoots one of the other terrorists in the shoulder. Patrick attempts to flee, but Ryan fatally shoots him in the chest. Seeing two of the royal guards racing towards the scene, the remaining terrorists quickly get back in their cars and drive off, leaving Sean to be captured when the authorities arrive. They retreat back to a warehouse, where they change out license plates.While recovering, Ryan is called to testify against Miller as a witness. Subsequently, Miller is convicted on all charges and sentenced to life in prison. Ryan is awarded the order of Knight Commander of the Victorian Order, and eventually returns to the United States.On the possibility that Miller's ULA comrades might try to liberate him, the authorities take no chances. To that extent, they set up decoy convoys on the day that Miller is to be transferred to Albany Prison on the Isle of Wight. However, someone manages to tip off the ULA as to which convoy is carrying Miller. Miller's motorcade is in transit when it comes to a stop at a drawbridge. The raised bridge, however, is a trap meant to block them in. Moments after the convoy comes to a stop, Miller's comrades attack, using rocket launchers to blow up the cars at the front and rear of the convoy. They then march up to the prison van and order the guards out at gunpoint by taking the bridge operator hostage and threatening to shoot him. One of the guards hesitates and is shot fatally. The other officer and the inspector are pulled out, thrown on the ground and forced to lie on their stomachs. O'Donnell hands Miller a pistol, with which he coldly executes both officers and the bridge operator by shooting them in the backs of their heads. They then depart the scene.Miller and his companions flee on a cargo ship from Britain to Libya, to prepare for their next kidnapping attempt on Lord Holmes. Miller however, cannot shake his anger towards Ryan for killing his younger brother and persuades several members of his entourage to accompany him to the United States on a short mission targeting Ryan and his family.Miller travels to the United States, accompanied by Annette, comrade Ned Clark, and a fourth henchman. Annette and Clark travel to the United States Naval Academy to ambush Ryan as he's leaving work. Ryan notices Clark idling nearby. Clark casually walks away, but Ryan clearly unnerved, then gets even more nervous as he hears a car engine starting. His suspicions are well warranted-as he continues walking down the street, he looks in the reflection of a parked van's rearview door and sees that Clark, and the stolen car driven by Annette, are following him. Ryan pretends not to see them until he's walking past a parked panel truck, at which point he ducks behind the truck. Clark draws a silenced pistol and prepares to corner Ryan, but Ryan attacks him first. Clark quickly gets the upper hand and throws Ryan to the curb. He grabs his pistol and is about to shoot Ryan when he's shot dead himself by a US Marine sentry. Annette quickly drives away in her Jeep. Ryan, realizing that Miller is going to target Cathy and Sally, jumps into his car and drives off.Simultaneously, Miller and the other henchman follow Cathy as she picks up Sally from school, with Miller riding shotgun. They prepare to follow the two, but are temporarily held up by a crossing guard. Once the crossing guard clears, they pursue her to US Highway 50. Ryan tries to frantically call Cathy on his car phone, but she is busy answering phone calls from the hospital. As he's trying to connect with her, Miller and his henchman recklessly weave in and out of traffic to catch up with Cathy. Ryan eventually gets through to Cathy and tells her to get off the highway and find the nearest police station. Unfortunately, just as the call ends, Miller's van comes charging up on her using the left shoulder. Miller moves to the backseat of the van, grabs a submachine gun, and slides open the door. Another car momentarily delays him, but once he has a clear aim, Miller opens fire, spraying Cathy's car with bullets. A multicar pileup ensues as Cathy loses control of her car and crashes head-on into a concrete barrier. Ryan, who has found himself stuck in traffic headed in the other direction, sees the smoke from the crash and realizes the worst.Cathy and Sally are airlifted to a nearby hospital for treatment. Enraged over the near-loss of his family, Ryan decides to go back to work for the CIA, having earlier rejected the appeal of his former superior, Vice Admiral James Greer (James Earl Jones).Ryan's tireless work leads him to conclude that Miller has taken refuge in a training camp, one of many located in Libya. He also determines that a recent new arrival at the camp may be one of O'Donnell's English informants, Dennis Cooley. Ryan makes his recommendations to his superiors at the CIA. Greer invites Jack to a live feed of an SAS strike team attack on the camp. Everyone in the camp is eliminated but unbeknownst to the CIA and Ryan, Miller and his companions have already fled the camp and are on their way to the US to stage their next attack on Lord Holmes.Lord Holmes decides to visit Ryan at his home to formally present his KCVO. With the aid of Lord Holmes' traitorous assistant, Miller's group tracks Holmes to this location, kills the Diplomatic Security Service agents and Maryland state troopers guarding the house, and attempts once more to kidnap Lord Holmes. Ryan leads Holmes and his family to safety while he attempts to lure Miller and his companions away from his home.The FBI Hostage Rescue Teams are scrambled to pick up Holmes. Upon realising that Ryan is leading them away from Holmes, Miller's companions try to persuade Miller to turn around, but an enraged and deranged Miller kills his terrorist companions and continues his pursuit of Ryan. Ryan and Miller fight hand to hand; Miller is killed when Ryan impales him backward on a boat anchor, and his body is obliterated in the subsequent explosion of the craft.Credits roll just after Caroline Ryan learns the gender of the child she is going to have, and before she tells Jack and Sally.\"}\n",
            "\n",
            "{\"movie_id\": \"tt1204975\", \"plot_summary\": \"Billy (Michael Douglas), Paddy (Robert De Niro), Archie (Morgan Freeman) and Sam (Kevin Kline) have been best friends since childhood. So when Billy, the group's sworn bachelor, finally proposes to his thirty-something (of course) girlfriend, the four head to Las Vegas with a plan to stop acting their age and relive their glory days. However, upon arriving, the four quickly realize that the decades have transformed Sin City and tested their friendship in ways they never imagined. The Rat Pack may have once played the Sands and Cirque du Soleil may now rule the Strip, but it's these four who are taking over Vegas.                Written by\\nProduction\", \"duration\": \"1h 45min\", \"genre\": [\"Comedy\"], \"rating\": \"6.6\", \"release_date\": \"2013-11-01\", \"plot_synopsis\": \"Four boys around the age of 10 are friends in Brooklyn during the '50s. They have a nickname, the Flatbush Four, and also pal around with a girl. One day they get into a scuffle at a store with a young thug, and steal a bottle of scotch as they run away.58 years later: Sam has retired with his wife to Naples, FL; Archie is living with his son in New Jersey; Paddy lives alone in Brooklyn after his wife Sophie died a year earlier; Billy is wealthy and living in Malibu, CA with a young woman named Lisa.Billy goes to the funeral for his friend Ronnie, and in the process of eulogizing him, while commenting on the shortness of life and love, he spontaneously proposes to Lisa.Billy conference calls Sam and Archie to tell them he is getting married that weekend in Las Vegas, and they not only want to come to the wedding, they want to throw him a bachelor party the night before. All three of them dread calling Paddy though.Sam's wife sends him off to Vegas with a condom, telling him he can do what he likes to get some life back in him. Sam goes to New Jersey and picks up Archie, and they both go to see Paddy, but he is reluctant to go with them to Vegas. He begins complaining about their old friend Billy, and continues to ruminate about him for the whole trip.When the three friends get to the Vegas airport, Paddy is unhappy when Billy meets them there, still upset about something in their recent past.They go to Binion's casino downtown, but soon learn that the hotel portion is closed. They hear a singer in the lounge named Diana and they invite her to have a drink with them. Paddy explains that the reason they have been arguing is that Billy did not come to the funeral for his wife Sophie a year ago.They invite Diana to walk down the Strip with them to the Aria, where Billy is planning his wedding service.Sam chats up a woman at the Aria bar who turns out to be a drag queen. Billy goes to survey the hotel chapel with Diana. Paddy watches Archie win $87,000 on a blackjack table. All four of them are invited to judge a bikini contest at the pool.The Aria management approaches Archie and invites him to stay in a luxury suite with his friends because he won so much. The men like the swank penthouse, but Paddy is still bitter toward Billy and refuses to go with them to the hotel's nightclub.The other three go to the nightclub, where they pay an outrageous fee to get a VIP table. They drink well, chat up some young women, and almost get into a fight with a young thug, whom Paddy shows up to beat down.The next morning, Paddy visits Diana at Binion's, and takes her on a walk to tell her more about his life after his wife died. He clearly feels sweet toward her.Paddy finds Billy back at the Aria and asks him if he really loves Lisa, pointing out that he is 69 and Lisa is 31, and he does not seem to really love her. Before they can finish talking, Sam and Archie come by, and a hotel agent brings the thug from the night before to apologize to them.Billy goes to visit Diana at Binion's, and explains that when the guys were 17, Sophie loved him and Paddy both. Because he could tell Paddy was better for her, he told her to choose Paddy. Now he clearly feels sweet toward Diana.After much local advertising, the guys throw a huge party in their suite, with beaucoup dancing and drinking. Archie is surprised when his son shows up out of concern about him, but Archie explains that he is finally having some fun. Sam gets a girl to go to a bedroom with him, ready to have sex, but then tells her he can't do it because he's thinking of his wife. Curtis \\\"50 Cent\\\" Jackson shows up but he can't get in.Billy realizes that Paddy has invited Diana to the party, and Paddy realizes that Billy is attracted to her as well. When she shows up, Billy bumps Paddy into a small pool and takes Diana to a room. As Diana begins to protest that Billy wants to push Paddy on her just like he did with Sophie when they were teens, Paddy overhears and becomes quite upset.The next morning by the hotel pool, Paddy tells Billy that he can tell he does not really love Lisa and should not marry her. Just then Lisa shows up for the wedding, but Paddy pushes Billy into the pool and approaches Lisa to say he is simply returning the favor of making sure Billy ends up with the right woman.Billy and Lisa evidently break up as the other guys watch from a distance.Back in the hotel suite, Billy gets upset in front of the other guys, confessing he is scared of being old, and his life is \\\"winding up a little too fast.\\\" He apologizes to Paddy for not coming to Sophie's funeral. They all affirm their friendship, and Paddy tells Billy he should go see Diana.Billy goes to Binion's lounge and slowly takes Diana in an embrace. Good kiss.As they are preparing to leave the suite, the four friends open the bottle of scotch they had stolen 58 years earlier, and make a toast. Alas, the scotch has not aged as well as they have.The four friends separate at the airport, and wonder about what they could do the next year to get together for fun.58 days later: Billy calls his three friends from Malibu to tell them he's getting married to Diana. Paddy is happy for him, but has to get going to a concert with a neighbor lady. Archie is happy too, but is tending to his grandson. Sam can't quite answer the phone, because he's been in bed making love with his wife.\"}\n",
            "\n",
            "{\"movie_id\": \"tt0243655\", \"plot_summary\": \"The setting is Camp Firewood, the year 1981. It's the last day before everyone goes back to the real world, but there's still a summer's worth of unfinished business to resolve. At the center of the action is camp director Beth, who struggles to keep order while she falls in love with the local astrophysics professor. He is busy trying to save the camp from a deadly piece of NASA's Skylab which is hurtling toward earth. All that, plus: a dangerous waterfall rescue, love triangles, misfits, cool kids, and talking vegetable cans. The questions will all be resolved, of course, at the big talent show at the end of the day.                Written by\\nSujit R. Varma\", \"duration\": \"1h 37min\", \"genre\": [\"Comedy\", \"Romance\"], \"rating\": \"6.7\", \"release_date\": \"2002-04-11\", \"plot_synopsis\": \"\"}\n",
            "\n",
            "{\"movie_id\": \"tt0040897\", \"plot_summary\": \"Fred C. Dobbs and Bob Curtin, both down on their luck in Tampico, Mexico in 1925, meet up with a grizzled prospector named Howard and decide to join with him in search of gold in the wilds of central Mexico. Through enormous difficulties, they eventually succeed in finding gold, but bandits, the elements, and most especially greed threaten to turn their success into disaster.                Written by\\nJim Beaver <jumblejim@prodigy.net>\", \"duration\": \"2h 6min\", \"genre\": [\"Adventure\", \"Drama\", \"Western\"], \"rating\": \"8.3\", \"release_date\": \"1948-01-24\", \"plot_synopsis\": \"Fred Dobbs (Humphrey Bogart) and Bob Curtin (Tim Holt) are down on their luck in Mexico and are both victims of a swindle in which workers are hired but not paid by a notoriously corrupt local businessman (Barton MacLane). Intrigued in the local pub by the stories of Howard (Walter Huston), an old burnt-out gold prospector keen on finding business partners to go prospecting, they cannot join him because they don't have enough money. When Dobbs makes a small score in a local lottery, that changes, and they hook up with Howard and set off for the hills.They find land on which much gold can be mined, and they split the gold equally, with each hiding and tending to his individual share. One day, Curtin sees a gila monster (a venomous lizard) and resolves to kill it, but it hides under a rock. Curtin will have to lift the rock to shoot it, but when Dobbs, whose gold, coincidentally, is hidden under this same rock, sees Curtin lifting it, even after seeing the gila monster, he fears that his goods will soon be stolen by one of the others. When another man named Cody (Bruce Bennett) finds them and insists on becoming their partners in prospecting, they resolve to shoot him. Before they do so, however, a group of bandits led by Gold Hat (Alfonso Bedoya) finds them and the bandits try to barter for some of their weapons, but these weapons are indispensable to the men and they refuse to do business. This results in exchange of gunfire, and Cody, who helps to defend the men, is killed. The bandits are ultimately scared away, and gold prospecting continues until they have mined enough gold to be prosperous for the remainder of their lives.All that remains is to take their gold back to the city where they can sell it, but this will require an arduous trip through the desert. Early in the trip, Howard, a man known to be skilled in the ways of medicine, is forced by some primitive local people to return with them to treat an ill child, and has little choice but to trust Dobbs and Curtin to hold his share of the goods until he returns to them. Curtin has every intention of doing this, but Dobbs remains suspicious of Curtin, believing that Curtin will kill him the very moment he goes to sleep. Troubled by this, he tries to murder Curtin, and soon holds all the goods, but he must now make a long trip through the desert alone.Unfortunately for Dobbs, he encounters Gold Hat on his trip, and Gold Hat, who recognizes him, murders him and takes his goods. Gold Hat returns to the city to sell the goods, but once it is determined that he has stolen the goods he holds, he is executed by firing squad. When it turns out that Curtin has survived, and when Howard returns, it soon becomes clear that their fortune is missing, and they share an unexpected laugh, appreciating that, despite their bad luck, they were far more prosperous than Dobbs and Gold Hat.Life, Curtin and Howard understood, would go on, and their unbroken spirit made them symbols of resolve in the face of adversity.\"}\n",
            "\n",
            "{\"movie_id\": \"tt0126886\", \"plot_summary\": \"Tracy Flick is running unopposed for this year's high school student election. But school civics teacher Jim McAllister has a different plan. Partly to establish a more democratic election, and partly to satisfy some deep personal anger toward Tracy, Jim talks popular varsity football player Paul Metzler to run for president as well. Chaos ensues.                Written by\\nR. P. Falvey <falvey@scf.usc.edu>\", \"duration\": \"1h 43min\", \"genre\": [\"Comedy\", \"Drama\", \"Romance\"], \"rating\": \"7.3\", \"release_date\": \"1999-05-07\", \"plot_synopsis\": \"Jim McAllister (Matthew Broderick) is a much-admired high school history teacher living in the suburbs of Omaha, Nebraska, who is actively involved in many after-school activities, one of which is overseeing the student government election process.Tracy Flick (Reese Witherspoon) is an overachieving junior with an insufferable air of self-importance. She lives with her bitter and divorced mother who encourages her to \\\"to whatever it takes\\\" to succeed in life. Earlier in the year, another teacher, Jim's best friend Dave Novotny (Mark Harelik) was fired from his job and divorced by his wife, Linda (Delaney Driscoll) after it came out that he and Tracy were having a sexual affair, while Tracy's reputation was unscathed.Against this backdrop, Tracy announces that she is running for student council president. Initially she is unopposed, as she is widely seen as the natural candidate for the job. When Tracy presents Mr. McAllister with her list of nominating signatures to qualify for the election ballot, she makes a remark about \\\"working closely\\\" together... which he interprets as an indication she may later try to seduce him as she did with Dave. Perhaps annoyed by Tracy's presumptuousness, and/or concerned that he might give in to this seduction and share the same fate as his friend Dave, Mr. McAllister decides to persuade junior Paul Metzler (Chris Klein), a slow-witted, but affable and popular football player to enter the race. Paul is unable to play football as he is recovering from a ski injury that resulted in his left leg being broken, and Mr. McAllister suggests a new way to explore his talents through student council. Although Paul is ambivalent at first, he agrees to run, much to Tracy's consternation.Meanwhile, Paul's adopted younger sister Tammy (Jessica Campbell) is rejected by her romantic interest Lisa (Frankie Ingrassia), who dismisses their time together as \\\"experimenting.\\\" Lisa then engages in a passionate relationship with Paul. In retaliation, Tammy decides to run for school president as well. During a school assembly to hear the candidate's speeches, after Tracy only draws polite applause and Paul is barely able to read his speech, Tammy announces that the office of school president is useless and promises nothing, except to try and dissolve student government. The speech rallies the students to a standing ovation, but her subversive diatribe results in her getting a suspension from school.While working on another project after school, Tracy has an uncharacteristic fit of rage and destroys all of Paul's campaign posters. She then drives to a local power plant to dispose of the shredded posters in a nearby dumpster. Unbeknownst to Tracy, her attempted cover-up is witnessed by Tammy who was meditating near her favorite spot, an electric substation. The next day, when Mr. McAllister confronts Tracy about the missing posters and lectures her that \\\"all of our actions can carry serious consequences,\\\" Tracy adamantly claims innocence, despite his insistence that all evidence points to her as the chief suspect. At that moment, Tammy knocks on the door and tells Mr. MacAllister she knows who tore down the posters. Tracy is asked to wait outside the room while Tammy speaks to Mr. McAllister. Tracy experiences a moment of sheer panic when she peers in the window only to see Tammy revealing the shredded posters. What Tracy can't hear is that Tammy is falsely confessing to a skeptical Mr. McAllister that it is she, not Tracy, who perpetrated the poster sabotage. As a result, Tammy is disqualified from the election and expelled from school. Tracy is now off the hook. But this clearly does not sit well with Jim, who still suspects Tracy is the guilty party. Meanwhile, Tammy's punishment of being sent to an all-girls Catholic school secretly pleases her and is the reason she took the blame for the vandalism.The day before the election, Linda Novotny asks Jim to come over to help unclog her bathtub drain. After Jim completes the job, Linda unexpectedly initiates a sexual liaison with him and then suggests that he book a motel room for them to continue their dalliance later that day, a proposition Jim himself had half-jokingly made to Linda shortly after her breakup with Dave. However, Linda apparently has a change of heart and is nowhere to be found when Jim arrives at her house to pick her up for their tryst. Not knowing where Linda could be, Jim walks into her backyard where he has the misfortune of being stung by a bee on his right eyelid, causing a terribly painful and unsightly allergic reaction. He then drives back to the motel and desperately tries to reach Linda by phone, but to no avail. Jim eventually returns to his own house later that evening only to find Linda and his wife (Molly Hagan) huddled together crying in the living room. Realizing that Linda has disclosed the infidelity to his wife and that he is no longer welcome at home, Jim spends a miserable night sleeping in his car outside Linda's house.The next day election day Jim oversees the counting of the ballots, though by now his right eyelid is grotesquely swollen and almost completely shut as a result of the bee sting. Paul had voted for Tracy, feeling that it would be arrogant to vote for himself. But this turns out to be a costly decision. The ballots are meticulously counted by a duo of student auditors, who determine that Tracy has prevailed by a single vote. It is then up to Jim to perform a final ballot count to certify the outcome. When Jim happens to spot Tracy dancing excitedly in the hall, he deduces that she may have been tipped off about the vote count. Angered by Tracy's unseemly display of glee and her dirty-tricks campaign tactics, Jim decides to take matters into his own hands by surreptitiously disposing of two of Tracy's ballots and declaring Paul the official victor. This turnabout elicits incredulity and shock from the two student auditors, who are certain that their original vote count was accurate. Tracy is shocked and despondent upon hearing the unexpected news of her defeat. Jim goes to the same motel he intended to commit adultery in, only this time to actually use it for lodging.The next morning, Jim wakes up and is confident of patching things up with his wife now that the election is behind him. However, the school janitor, to whom Jim had been unknowingly rude earlier by creating unneeded extra work for him, discovers the two discarded ballots in the trash and presents them to the principal. When Jim is confronted with the evidence of his fraudulent intervention, he admits everything and resigns from his job. The rigged election becomes a nationwide email trope, and as a result Jim's wife fails to forgive him.Divorced, publicly humiliated and ostracized by everyone he knows for this one half-hearted attempt to thwart Tracy's evil schemes to win the election, Jim leaves Nebraska forever, choosing to fulfill his longtime dream of moving to New York City, where he becomes a tour guide at the American Museum of Natural History and begins a quiet relationship with a new woman.After serving her senior year as the new hard-line and strict dictator-like class president, Tracy graduates at the top of her class and gets accepted into Georgetown University in Washington D.C., with a full scholarship and a desire to go into politics as both her major and future career, but she soon finds the experience disappointing. Despite having gotten everything she ever wanted in life, Tracy still has no friends, no social life, and cannot fit in anywhere at the university as most outgoing students there have slid-on-by connections. Tracy comes to accept the fact that it is indeed lonely being at the top of everything.Despite losing the student body president election, Paul enjoys a mostly happy-go-lucky senior year highlighted by being elected homecoming king and prom king, though he ends up getting dumped by his girlfriend, Lisa. After graduation, Paul gets into the University of Nebraska with a scholarship of his own where he joins a popular fraternity, makes many new friends, and resumes his career at playing football for the university.The misanthropic Tammy becomes romantically involved with a fellow student at the all-girls Catholic school that her parents made her enroll, and later runs away with her for places unknown.Jim's friend, Dave, moves to Milwaukee, Wisconsin and takes a low-paying job stocking shelves at a local supermarket.As the film draws to a close, the film skips forward seven years after Jim's dismissal from Nebraska where Jim recalls a final encounter he had with Tracy. On one cold winter day, Jim is at a conference in Washington D.C. and while walking the streets, he sees Tracy from a distance as she enters a limousine outside a fancy hotel with a congressman (revealed to be Mike Geiger, a Republican representative from Nebraska) whom she appears to work for as a member of his congressional staff. Suddenly enraged at the thought of Tracy, yet again, lying, cheating, seducing and manipulating her way into political success for her own selfish reasons, Jim hurls a soda cup at the limousine, and then makes a quick getaway.The film ends with Jim safely back in New York City at his tour guide job posing questions to a group of young elementary school children who are visiting the museum, deliberately ignoring the raised hand of an overeager little blonde-haired girl who reminds him of the ruthless and insufferable overachiever Tracy Flick.\"}\n",
            "\n"
          ]
        }
      ]
    },
    {
      "cell_type": "code",
      "source": [
        "df_plot_summaries = pd.read_json(file_path1, lines=True)"
      ],
      "metadata": {
        "id": "T39JvS4148qr"
      },
      "execution_count": 3,
      "outputs": []
    },
    {
      "cell_type": "code",
      "source": [
        "df_plot_summaries.tail()"
      ],
      "metadata": {
        "colab": {
          "base_uri": "https://localhost:8080/",
          "height": 293
        },
        "outputId": "c19dba9f-909d-481d-a558-8387262dc613",
        "id": "Q4fBNHKh48qs"
      },
      "execution_count": 4,
      "outputs": [
        {
          "output_type": "execute_result",
          "data": {
            "text/plain": [
              "        movie_id                                       plot_summary  duration  \\\n",
              "1567   tt0289879  Evan Treborn grows up in a small town with his...  1h 53min   \n",
              "1568   tt1723811  Brandon is a 30-something man living in New Yo...  1h 41min   \n",
              "1569   tt5013056  Evacuation of Allied soldiers from the British...  1h 46min   \n",
              "1570  tt0104014/  For a while now, beautiful 24-year-old Diana B...  1h 33min   \n",
              "1571  tt0114142/  The marriage of David Burgess, a senior execut...  1h 32min   \n",
              "\n",
              "                         genre  rating release_date  \\\n",
              "1567        [Sci-Fi, Thriller]     7.7   2004-01-23   \n",
              "1568                   [Drama]     7.2   2012-01-13   \n",
              "1569  [Action, Drama, History]     8.1   2017-07-21   \n",
              "1570           [Comedy, Drama]     5.3   1992-02-21   \n",
              "1571         [Drama, Thriller]     4.0   1999-01-29   \n",
              "\n",
              "                                          plot_synopsis  \n",
              "1567  In the year 1998, Evan Treborn (Ashton Kutcher...  \n",
              "1568  Brandon (Michael Fassbender) is a successful, ...  \n",
              "1569  The film alternates between three different pe...  \n",
              "1570                                                     \n",
              "1571                                                     "
            ],
            "text/html": [
              "\n",
              "  <div id=\"df-15c44e92-f814-4137-b4a0-cc34ff48e560\" class=\"colab-df-container\">\n",
              "    <div>\n",
              "<style scoped>\n",
              "    .dataframe tbody tr th:only-of-type {\n",
              "        vertical-align: middle;\n",
              "    }\n",
              "\n",
              "    .dataframe tbody tr th {\n",
              "        vertical-align: top;\n",
              "    }\n",
              "\n",
              "    .dataframe thead th {\n",
              "        text-align: right;\n",
              "    }\n",
              "</style>\n",
              "<table border=\"1\" class=\"dataframe\">\n",
              "  <thead>\n",
              "    <tr style=\"text-align: right;\">\n",
              "      <th></th>\n",
              "      <th>movie_id</th>\n",
              "      <th>plot_summary</th>\n",
              "      <th>duration</th>\n",
              "      <th>genre</th>\n",
              "      <th>rating</th>\n",
              "      <th>release_date</th>\n",
              "      <th>plot_synopsis</th>\n",
              "    </tr>\n",
              "  </thead>\n",
              "  <tbody>\n",
              "    <tr>\n",
              "      <th>1567</th>\n",
              "      <td>tt0289879</td>\n",
              "      <td>Evan Treborn grows up in a small town with his...</td>\n",
              "      <td>1h 53min</td>\n",
              "      <td>[Sci-Fi, Thriller]</td>\n",
              "      <td>7.7</td>\n",
              "      <td>2004-01-23</td>\n",
              "      <td>In the year 1998, Evan Treborn (Ashton Kutcher...</td>\n",
              "    </tr>\n",
              "    <tr>\n",
              "      <th>1568</th>\n",
              "      <td>tt1723811</td>\n",
              "      <td>Brandon is a 30-something man living in New Yo...</td>\n",
              "      <td>1h 41min</td>\n",
              "      <td>[Drama]</td>\n",
              "      <td>7.2</td>\n",
              "      <td>2012-01-13</td>\n",
              "      <td>Brandon (Michael Fassbender) is a successful, ...</td>\n",
              "    </tr>\n",
              "    <tr>\n",
              "      <th>1569</th>\n",
              "      <td>tt5013056</td>\n",
              "      <td>Evacuation of Allied soldiers from the British...</td>\n",
              "      <td>1h 46min</td>\n",
              "      <td>[Action, Drama, History]</td>\n",
              "      <td>8.1</td>\n",
              "      <td>2017-07-21</td>\n",
              "      <td>The film alternates between three different pe...</td>\n",
              "    </tr>\n",
              "    <tr>\n",
              "      <th>1570</th>\n",
              "      <td>tt0104014/</td>\n",
              "      <td>For a while now, beautiful 24-year-old Diana B...</td>\n",
              "      <td>1h 33min</td>\n",
              "      <td>[Comedy, Drama]</td>\n",
              "      <td>5.3</td>\n",
              "      <td>1992-02-21</td>\n",
              "      <td></td>\n",
              "    </tr>\n",
              "    <tr>\n",
              "      <th>1571</th>\n",
              "      <td>tt0114142/</td>\n",
              "      <td>The marriage of David Burgess, a senior execut...</td>\n",
              "      <td>1h 32min</td>\n",
              "      <td>[Drama, Thriller]</td>\n",
              "      <td>4.0</td>\n",
              "      <td>1999-01-29</td>\n",
              "      <td></td>\n",
              "    </tr>\n",
              "  </tbody>\n",
              "</table>\n",
              "</div>\n",
              "    <div class=\"colab-df-buttons\">\n",
              "\n",
              "  <div class=\"colab-df-container\">\n",
              "    <button class=\"colab-df-convert\" onclick=\"convertToInteractive('df-15c44e92-f814-4137-b4a0-cc34ff48e560')\"\n",
              "            title=\"Convert this dataframe to an interactive table.\"\n",
              "            style=\"display:none;\">\n",
              "\n",
              "  <svg xmlns=\"http://www.w3.org/2000/svg\" height=\"24px\" viewBox=\"0 -960 960 960\">\n",
              "    <path d=\"M120-120v-720h720v720H120Zm60-500h600v-160H180v160Zm220 220h160v-160H400v160Zm0 220h160v-160H400v160ZM180-400h160v-160H180v160Zm440 0h160v-160H620v160ZM180-180h160v-160H180v160Zm440 0h160v-160H620v160Z\"/>\n",
              "  </svg>\n",
              "    </button>\n",
              "\n",
              "  <style>\n",
              "    .colab-df-container {\n",
              "      display:flex;\n",
              "      gap: 12px;\n",
              "    }\n",
              "\n",
              "    .colab-df-convert {\n",
              "      background-color: #E8F0FE;\n",
              "      border: none;\n",
              "      border-radius: 50%;\n",
              "      cursor: pointer;\n",
              "      display: none;\n",
              "      fill: #1967D2;\n",
              "      height: 32px;\n",
              "      padding: 0 0 0 0;\n",
              "      width: 32px;\n",
              "    }\n",
              "\n",
              "    .colab-df-convert:hover {\n",
              "      background-color: #E2EBFA;\n",
              "      box-shadow: 0px 1px 2px rgba(60, 64, 67, 0.3), 0px 1px 3px 1px rgba(60, 64, 67, 0.15);\n",
              "      fill: #174EA6;\n",
              "    }\n",
              "\n",
              "    .colab-df-buttons div {\n",
              "      margin-bottom: 4px;\n",
              "    }\n",
              "\n",
              "    [theme=dark] .colab-df-convert {\n",
              "      background-color: #3B4455;\n",
              "      fill: #D2E3FC;\n",
              "    }\n",
              "\n",
              "    [theme=dark] .colab-df-convert:hover {\n",
              "      background-color: #434B5C;\n",
              "      box-shadow: 0px 1px 3px 1px rgba(0, 0, 0, 0.15);\n",
              "      filter: drop-shadow(0px 1px 2px rgba(0, 0, 0, 0.3));\n",
              "      fill: #FFFFFF;\n",
              "    }\n",
              "  </style>\n",
              "\n",
              "    <script>\n",
              "      const buttonEl =\n",
              "        document.querySelector('#df-15c44e92-f814-4137-b4a0-cc34ff48e560 button.colab-df-convert');\n",
              "      buttonEl.style.display =\n",
              "        google.colab.kernel.accessAllowed ? 'block' : 'none';\n",
              "\n",
              "      async function convertToInteractive(key) {\n",
              "        const element = document.querySelector('#df-15c44e92-f814-4137-b4a0-cc34ff48e560');\n",
              "        const dataTable =\n",
              "          await google.colab.kernel.invokeFunction('convertToInteractive',\n",
              "                                                    [key], {});\n",
              "        if (!dataTable) return;\n",
              "\n",
              "        const docLinkHtml = 'Like what you see? Visit the ' +\n",
              "          '<a target=\"_blank\" href=https://colab.research.google.com/notebooks/data_table.ipynb>data table notebook</a>'\n",
              "          + ' to learn more about interactive tables.';\n",
              "        element.innerHTML = '';\n",
              "        dataTable['output_type'] = 'display_data';\n",
              "        await google.colab.output.renderOutput(dataTable, element);\n",
              "        const docLink = document.createElement('div');\n",
              "        docLink.innerHTML = docLinkHtml;\n",
              "        element.appendChild(docLink);\n",
              "      }\n",
              "    </script>\n",
              "  </div>\n",
              "\n",
              "\n",
              "<div id=\"df-319fedff-e803-4743-83b6-fe6c7109f17e\">\n",
              "  <button class=\"colab-df-quickchart\" onclick=\"quickchart('df-319fedff-e803-4743-83b6-fe6c7109f17e')\"\n",
              "            title=\"Suggest charts\"\n",
              "            style=\"display:none;\">\n",
              "\n",
              "<svg xmlns=\"http://www.w3.org/2000/svg\" height=\"24px\"viewBox=\"0 0 24 24\"\n",
              "     width=\"24px\">\n",
              "    <g>\n",
              "        <path d=\"M19 3H5c-1.1 0-2 .9-2 2v14c0 1.1.9 2 2 2h14c1.1 0 2-.9 2-2V5c0-1.1-.9-2-2-2zM9 17H7v-7h2v7zm4 0h-2V7h2v10zm4 0h-2v-4h2v4z\"/>\n",
              "    </g>\n",
              "</svg>\n",
              "  </button>\n",
              "\n",
              "<style>\n",
              "  .colab-df-quickchart {\n",
              "      --bg-color: #E8F0FE;\n",
              "      --fill-color: #1967D2;\n",
              "      --hover-bg-color: #E2EBFA;\n",
              "      --hover-fill-color: #174EA6;\n",
              "      --disabled-fill-color: #AAA;\n",
              "      --disabled-bg-color: #DDD;\n",
              "  }\n",
              "\n",
              "  [theme=dark] .colab-df-quickchart {\n",
              "      --bg-color: #3B4455;\n",
              "      --fill-color: #D2E3FC;\n",
              "      --hover-bg-color: #434B5C;\n",
              "      --hover-fill-color: #FFFFFF;\n",
              "      --disabled-bg-color: #3B4455;\n",
              "      --disabled-fill-color: #666;\n",
              "  }\n",
              "\n",
              "  .colab-df-quickchart {\n",
              "    background-color: var(--bg-color);\n",
              "    border: none;\n",
              "    border-radius: 50%;\n",
              "    cursor: pointer;\n",
              "    display: none;\n",
              "    fill: var(--fill-color);\n",
              "    height: 32px;\n",
              "    padding: 0;\n",
              "    width: 32px;\n",
              "  }\n",
              "\n",
              "  .colab-df-quickchart:hover {\n",
              "    background-color: var(--hover-bg-color);\n",
              "    box-shadow: 0 1px 2px rgba(60, 64, 67, 0.3), 0 1px 3px 1px rgba(60, 64, 67, 0.15);\n",
              "    fill: var(--button-hover-fill-color);\n",
              "  }\n",
              "\n",
              "  .colab-df-quickchart-complete:disabled,\n",
              "  .colab-df-quickchart-complete:disabled:hover {\n",
              "    background-color: var(--disabled-bg-color);\n",
              "    fill: var(--disabled-fill-color);\n",
              "    box-shadow: none;\n",
              "  }\n",
              "\n",
              "  .colab-df-spinner {\n",
              "    border: 2px solid var(--fill-color);\n",
              "    border-color: transparent;\n",
              "    border-bottom-color: var(--fill-color);\n",
              "    animation:\n",
              "      spin 1s steps(1) infinite;\n",
              "  }\n",
              "\n",
              "  @keyframes spin {\n",
              "    0% {\n",
              "      border-color: transparent;\n",
              "      border-bottom-color: var(--fill-color);\n",
              "      border-left-color: var(--fill-color);\n",
              "    }\n",
              "    20% {\n",
              "      border-color: transparent;\n",
              "      border-left-color: var(--fill-color);\n",
              "      border-top-color: var(--fill-color);\n",
              "    }\n",
              "    30% {\n",
              "      border-color: transparent;\n",
              "      border-left-color: var(--fill-color);\n",
              "      border-top-color: var(--fill-color);\n",
              "      border-right-color: var(--fill-color);\n",
              "    }\n",
              "    40% {\n",
              "      border-color: transparent;\n",
              "      border-right-color: var(--fill-color);\n",
              "      border-top-color: var(--fill-color);\n",
              "    }\n",
              "    60% {\n",
              "      border-color: transparent;\n",
              "      border-right-color: var(--fill-color);\n",
              "    }\n",
              "    80% {\n",
              "      border-color: transparent;\n",
              "      border-right-color: var(--fill-color);\n",
              "      border-bottom-color: var(--fill-color);\n",
              "    }\n",
              "    90% {\n",
              "      border-color: transparent;\n",
              "      border-bottom-color: var(--fill-color);\n",
              "    }\n",
              "  }\n",
              "</style>\n",
              "\n",
              "  <script>\n",
              "    async function quickchart(key) {\n",
              "      const quickchartButtonEl =\n",
              "        document.querySelector('#' + key + ' button');\n",
              "      quickchartButtonEl.disabled = true;  // To prevent multiple clicks.\n",
              "      quickchartButtonEl.classList.add('colab-df-spinner');\n",
              "      try {\n",
              "        const charts = await google.colab.kernel.invokeFunction(\n",
              "            'suggestCharts', [key], {});\n",
              "      } catch (error) {\n",
              "        console.error('Error during call to suggestCharts:', error);\n",
              "      }\n",
              "      quickchartButtonEl.classList.remove('colab-df-spinner');\n",
              "      quickchartButtonEl.classList.add('colab-df-quickchart-complete');\n",
              "    }\n",
              "    (() => {\n",
              "      let quickchartButtonEl =\n",
              "        document.querySelector('#df-319fedff-e803-4743-83b6-fe6c7109f17e button');\n",
              "      quickchartButtonEl.style.display =\n",
              "        google.colab.kernel.accessAllowed ? 'block' : 'none';\n",
              "    })();\n",
              "  </script>\n",
              "</div>\n",
              "\n",
              "    </div>\n",
              "  </div>\n"
            ],
            "application/vnd.google.colaboratory.intrinsic+json": {
              "type": "dataframe",
              "repr_error": "0"
            }
          },
          "metadata": {},
          "execution_count": 4
        }
      ]
    },
    {
      "cell_type": "code",
      "source": [
        "df_plot_summaries['plot_summary'][0]"
      ],
      "metadata": {
        "colab": {
          "base_uri": "https://localhost:8080/",
          "height": 140
        },
        "outputId": "6863b58a-bb75-4d65-90a5-6782ee93c3f9",
        "id": "H_9PcKIX48qu"
      },
      "execution_count": 5,
      "outputs": [
        {
          "output_type": "execute_result",
          "data": {
            "text/plain": [
              "\"Former CIA analyst, Jack Ryan is in England with his family on vacation when he suddenly witnesses an explosion outside Buckingham Palace. It is revealed that some people are trying to abduct a member of the Royal Family but Jack intervenes, killing one of them and capturing the other, and stops the plan in its tracks. Afterwards, he learns that they're Irish revolutionaries and the two men are brothers. During his court hearing the one that's still alive vows to get back at Jack but is sentenced and that seems to be the end of it. However, whilst the man is being transported, he is broken out. Jack learns of this but doesn't think there's anything to worry about. But, when he is at the Naval Academy someone tries to kill him. He learns that they are also going after his family and so he rushes to find them, safe but having also been the victims of a failed assassination. That's when Jack decides to rejoin the CIA, and they try to find the man before he makes another attempt.                Written by\\nrcs0411@yahoo.com\""
            ],
            "application/vnd.google.colaboratory.intrinsic+json": {
              "type": "string"
            }
          },
          "metadata": {},
          "execution_count": 5
        }
      ]
    },
    {
      "cell_type": "markdown",
      "source": [
        "### Dataset with spoilers"
      ],
      "metadata": {
        "id": "hAWeu0TbNv7S"
      }
    },
    {
      "cell_type": "code",
      "source": [
        "file_path2 = '/content/IMDB_reviews.json'\n",
        "with open(file_path2, \"r\", encoding=\"utf-8\") as f:\n",
        "    for i in range(5):\n",
        "        print(f.readline())"
      ],
      "metadata": {
        "colab": {
          "base_uri": "https://localhost:8080/"
        },
        "id": "I2GxuMKw-jJ_",
        "outputId": "cfd91858-86c0-4904-890f-f8de497d19ce"
      },
      "execution_count": 6,
      "outputs": [
        {
          "output_type": "stream",
          "name": "stdout",
          "text": [
            "{\"review_date\": \"10 February 2006\", \"movie_id\": \"tt0111161\", \"user_id\": \"ur1898687\", \"is_spoiler\": true, \"review_text\": \"In its Oscar year, Shawshank Redemption (written and directed by Frank Darabont, after the novella Rita Hayworth and the Shawshank Redemption, by Stephen King) was nominated for seven Academy Awards, and walked away with zero. Best Picture went to Forrest Gump, while Shawshank and Pulp Fiction were \\\"just happy to be nominated.\\\" Of course hindsight is 20/20, but while history looks back on Gump as a good film, Pulp and Redemption are remembered as some of the all-time best. Pulp, however, was a success from the word \\\"go,\\\" making a huge splash at Cannes and making its writer-director an American master after only two films. For Andy Dufresne and Co., success didn't come easy. Fortunately, failure wasn't a life sentence.After opening on 33 screens with take of $727,327, the $25M film fell fast from theatres and finished with a mere $28.3M. The reasons for failure are many. Firstly, the title is a clunker. While iconic to fans today, in 1994, people knew not and cared not what a 'Shawshank' was. On the DVD, Tim Robbins laughs recounting fans congratulating him on \\\"that 'Rickshaw' movie.\\\" Marketing-wise, the film's a nightmare, as 'prison drama' is a tough sell to women, and the story of love between two best friends doesn't spell winner to men. Worst of all, the movie is slow as molasses. As Desson Thomson writes for the Washington Post, \\\"it wanders down subplots at every opportunity and ignores an abundance of narrative exit points before settling on its finale.\\\" But it is these same weaknesses that make the film so strong.Firstly, its setting. The opening aerial shots of the prison are a total eye-opener. This is an amazing piece of architecture, strong and Gothic in design. Immediately, the prison becomes a character. It casts its shadow over most of the film, its tall stone walls stretching above every shot. It towers over the men it contains, blotting out all memories of the outside world. Only Andy (Robbins) holds onto hope. It's in music, it's in the sandy beaches of Zihuatanejo; \\\"In here's where you need it most,\\\" he says. \\\"You need it so you don't forget. Forget that there are places in the world that aren't made out of stone. That there's a - there's a - there's something inside that's yours, that they can't touch.\\\" Red (Morgan Freeman) doesn't think much of Andy at first, picking \\\"that tall glass o' milk with the silver spoon up his ass\\\" as the first new fish to crack. Andy says not a word, and losing his bet, Red resents him for it. But over time, as the two get to know each other, they quickly become the best of friends. This again, is one of the film's major strengths. Many movies are about love, many flicks have a side-kick to the hero, but Shawshank is the only one I can think of that looks honestly at the love between two best friends. It seems odd that Hollywood would skip this relationship time and again, when it's a feeling that weighs so much into everyone's day to day lives. Perhaps it's too sentimental to seem conventional, but Shawshank's core friendship hits all the right notes, and the film is much better for it.It's pacing is deliberate as well. As we spend the film watching the same actors, it is easy to forget that the movie's timeline spans well over 20 years. Such a huge measure of time would pass slowly in reality, and would only be amplified in prison. And it's not as if the film lacks interest in these moments. It still knows where it's going, it merely intends on taking its sweet time getting there. It pays off as well, as the tedium of prison life makes the climax that much more exhilarating. For anyone who sees it, it is a moment never to be forgotten.With themes of faith and hope, there is a definite religious subtext to be found here. Quiet, selfless and carefree, Andy is an obvious Christ figure. Warden Norton (Bob Gunton) is obviously modeled on Richard Nixon, who, in his day, was as close to a personified Satan as they come. But if you aren't looking for subtexts, the movie speaks to anyone in search of hope. It is a compelling drama, and a very moving film, perfectly written, acted and shot. They just don't come much better than this.OVERALL SCORE: 9.8/10 = A+ The Shawshank Redemption served as a message of hope to Hollywood as well. More than any film in memory, it proved there is life after box office. Besting Forrest and Fiction, it ran solely on strong word of mouth and became the hottest rented film of 1995. It currently sits at #2 in the IMDb's Top 250 Films, occasionally swapping spots with The Godfather as the top ranked film of all time -- redemption indeed. If you haven't seen it yet, what the hell are you waiting for? As Andy says, \\\"It comes down a simple choice, really. Either get busy living, or get busy dying.\\\"\", \"rating\": \"10\", \"review_summary\": \"A classic piece of unforgettable film-making.\"}\n",
            "\n",
            "{\"review_date\": \"6 September 2000\", \"movie_id\": \"tt0111161\", \"user_id\": \"ur0842118\", \"is_spoiler\": true, \"review_text\": \"The Shawshank Redemption is without a doubt one of the most brilliant movies I have ever seen. Similar to The Green Mile in many respects (and better than it in almost all of them), these two movies have shown us that Stephen King is a master not only of horror but also of prose that shakes the soul and moves the heart. The plot is average, but King did great things with it in his novella that are only furthered by the direction, and the acting is so top-rate it's almost scary.Tim Robbins plays Andy Dufrane, wrongly imprisoned for 20 years for the murder of his wife. The story focuses on Andy's relationship with \\\"Red\\\" Redding (Morgan Freeman, in probably his best role) and his attempts to escape from Shawshank. Bob Gunton is positively evil and frightening as Warden Norton, and there are great performances and cameos all around; the most prominent one being Gil Bellows (late as Billy of Ally McBeal) as Tommy, a fellow inmate of Andy's who suffers under the iron will of Norton.If you haven't seen this movie, GO AND RENT IT NOW. You will not be disappointed. It is positively the best movie of the '90's, and one of my Top 3 of all time. This movie is a spectacle to move the mind, soul, and heart. 10/10\", \"rating\": \"10\", \"review_summary\": \"Simply amazing. The best film of the 90's.\"}\n",
            "\n",
            "{\"review_date\": \"3 August 2001\", \"movie_id\": \"tt0111161\", \"user_id\": \"ur1285640\", \"is_spoiler\": true, \"review_text\": \"I believe that this film is the best story ever told on film, and I'm about to tell you why.Tim Robbins plays Andy Dufresne, a city banker, wrongfully convicted of murdering his wife and her lover. He is sent to Shawshank Prison in 1947 and receives a double life sentence for the crime. Andy forms an unlikely friendship with \\\"Red\\\" (Morgan Freeman), the man who knows how to get things. Andy faces many trials in prison, but forms an alliance with the wardens because he is able to use his banking experience to help the corrupt officials amass personal fortunes. The story unfolds....I was so impressed with how every single subplot was given a great deal of respect and attention from the director. The acting was world-class. I have never seen Tim Robbins act as well since, Morgan Freeman maybe (e.g. Seven). The twists were unexpected, an although this film had a familiar feel, it wasn't even slightly pretentious or cliched, it was original. The cinematography was grand and expressive. It gave a real impression of the sheer magnitude of this daunting prison.But the one thing which makes THE SHAWSHANK REDEMPTION stand above all other films, is the attention given to the story. The film depends on the story and the way in which it unravels. It's a powerful, poignant, thought-provoking, challenging film like no other. If Andy were to comment on this film, I think he might say: \\\"Get busy watching, or get busy dying.\\\" Take his advice.Thoroughly recommended.\", \"rating\": \"8\", \"review_summary\": \"The best story ever told on film\"}\n",
            "\n",
            "{\"review_date\": \"1 September 2002\", \"movie_id\": \"tt0111161\", \"user_id\": \"ur1003471\", \"is_spoiler\": true, \"review_text\": \"**Yes, there are SPOILERS here**This film has had such an emotional impact on me, I find it hard to write comments on it.  I've read a lot of the previous comments; all those that gush and eulogise as well as those who think it's over-rated or cliched. Most have got good points to make, however the thing that I think everyone is struggling to both explain and come to terms with is just why this film is *so* loved.  Loved to the extent that for many it is an almost spiritual experience or for those of a more secular nature like myself, loved as one of the most devastatingly uplifting things that can happen to you while watching a film.So I'm not going to review it, I'm just going to struggle in my own way to explain this film.  It took me a few viewings to get why I connect with it so deeply, but here goes.Many people in this world are unhappy.  Most people in this world don't want to be unhappy.  Lots of people wish, pray and above all hope for that magic wand to wave and wash them of their fears, losses, angers and pains once and for all.  They see lots of other people seemingly in this magical state, while they suffer.  To borrow the words of another film, they're watching the bluebirds flying over the rainbow.Many unhappy people have learned that the magic wand doesn't exist. They're not destined to join the bluebirds and fairytales don't come true.  It's not that no one lives happily ever after, it's just that they're not going to. They're busy dying.In this film, or as some people have quite correctly said, this fairytale, magic wands exist.  And that magic wand is Andy Dufrense imitating Houdini. However this film is not about him.  Neither is it about the prison, the governor, the guard, the plot, the acting, the cinematography, the script, the direction or the score.It's about Red.  He is the one who has become institutionally unhappy, he's not only trapped in a prison, not only has he given up on the idea of ever leaving, not only does he have no hope, he knows that if the miracle would ever happen to him, he couldn't cope.  He's safe in his unhappiness and that security is what keeps him going.  Hope is, as Red say, dangerous.  The metaphor for a certain illness here is very clear to me and I know that a rather large number of people suffer from it.  A large proportion of those don't understand what's wrong, but they certainly can recognise a fellow sufferer.  Those who are mercifully untouched by this illness definitely don't understand what's going on in those who do.  They're too busy living.The miracle in this film is not only that Red is redeemed but that the world outside the prison isn't all warm and sandy and sunny and with excellent fishing.  Some of it is rocky and uncertain.  Fairytales don't get this far. They'd end as Red left the gates of the prison and the credits would say 'and he lived happily ever after'.  This is the only film I can currently think of where they show how to get to the living happily ever after bit from your redemption via the rocky and uncertain ground of bagging groceries at the local store.  In other words, they're not going to cheat you and tell you everything's going to be alright.This is crucial.  For two and half hours, those of us who are quite content to mooch around our own personal prisons can see an escape route quite different to Andy's mapped out on the screen.  And it's a real way out. It's hard and upsetting, but ultimately rewarding.  The high you get from finding out and knowing that is only comparable diamorphine.The trouble is, if you're already busy living, this film won't mean that much and you'll see it a little more clearly than those busy dying.  To those fortunate individuals, watch this film and understand what the rest of us are going through.So, yes, this film is a cliched fairytale and maybe as a story it isn't realistic and at second on the IMDb all time list, it is a bit over-rated. However if you could have a chart of films listing the number of lives saved, altered and improved, the Shawshank Redemption would be way out in front at number one.\", \"rating\": \"10\", \"review_summary\": \"Busy dying or busy living?\"}\n",
            "\n",
            "{\"review_date\": \"20 May 2004\", \"movie_id\": \"tt0111161\", \"user_id\": \"ur0226855\", \"is_spoiler\": true, \"review_text\": \"At the heart of this extraordinary movie is a brilliant and indelible performance by Morgan Freeman as Red, the man who knows how to get things, the \\\"only\\\" guilty man at Shawshank prison. He was nominated by the Academy for Best Actor in 1995 but didn't win. (Tom Hanks won for Forrest Gump.) What Freeman does so beautifully is to slightly underplay the part so that the eternal boredom and cynicism of the lifer comes through, and yet we can see how very much alive with the warmth of life the man is despite his confinement. Someday Morgan Freeman is going to win an Academy Award and it will be in belated recognition for this performance, which I think was a little too subtle for some Academy members to fully appreciate at the time.But Freeman is not alone. Tim Robbins plays the hero of the story, banker Andy Dufresne, who has been falsely convicted of murdering his wife and her lover. Robbins has a unique quality as an actor in that he lends ever so slightly a bemused irony to the characters he plays. It is as though part of him is amused at what he is doing. I believe this is the best performance of his career, but it might be compared with his work in The Player (1992), another excellent movie, and in Mystic River (2003) for which he won an Oscar as Best Supporting Actor.It is said that every good story needs a villain, and in the Bible-quoting, Bible-thumping, massively hypocritical, sadistic Warden Samuel Norton, played perfectly by Bob Gunton, we have a doozy. I want to tell you that Norton is so evil that fundamentalist Christians actually hate this movie because of how precisely his vile character is revealed. They also hate the movie because of its depiction of violent, predatory homosexual behavior (which is the reason the movie is rated R). On the wall of his office (hiding his safe with its ill-gotten contents and duplicitous accounts) is a framed plaque of the words \\\"His judgment cometh and that right soon.\\\" The irony of these words as they apply to the men in the prison and ultimately to the warden himself is just perfect. You will take delight, I promise.Here is some other information about the movie that may interest you. As most people know, it was adapted from a novella by Stephen King entitled \\\"Rita Hayworth and the Shawshank Redemption.\\\" Rita Hayworth figures in the story because Red procures a poster of her for Andy that he pins up on the wall of his cell. The poster is a still from the film Gilda (1946) starring her and Glenn Ford. We see a clip from the black and white film as the prisoners watch, cheering and hollering when Rita Hayworth appears. If you haven't seen her, check out that old movie. She really is gorgeous and a forerunner of Marilyn Monroe, who next appears on Andy's wall in a still from The Seven Year Itch (1955). It's the famous shot of her in which her skirt is blown up to reveal her shapely legs. Following her on Andy's wall (and, by the way, these pinups figure prominently in the plot) is Rachel Welsh from One Million Years B.C. (1966). In a simple and effective device these pinups show us graphically how long Andy and Red have been pining away.Frank Darabont's direction is full of similar devices that clearly and naturally tell the story. There is Brooks (James Whitmore) who gets out after fifty years but is so institutionalized that he can't cope with life on the outside and hangs himself. Playing off of this is Red's periodic appearance before the parole board where his parole is summarily REJECTED. Watch how this plays out at the end.The cinematography by Roger Deakins is excellent. The editing superb: there's not a single dead spot in the whole movie. The difference between the good guys (Red, Andy, Brooks, etc.) and the bad guys (the warden, the guards, the \\\"sisters,\\\" etc.) is perhaps too starkly drawn, and perhaps Andy is a bit too heroic and determined beyond what might be realistic, and perhaps the \\\"redemption\\\" is a bit too miraculous in how beautifully it works out. But never mind. We love it.All in all this is a great story vividly told that will leave you with a true sense of redemption in your soul. It is not a chick flick, and that is an understatement. It is a male bonding movie about friendship and the strength of character, about going up against what is wrong and unfair and coming out on top through pure true grit and a little luck.Bottom line: one of the best ever made, currently rated #2 (behind The Godfather) at the IMDb. Don't miss it.(Note: Over 500 of my movie reviews are now available in my book \\\"Cut to the Chaise Lounge or I Can't Believe I Swallowed the Remote!\\\" Get it at Amazon!)\", \"rating\": \"8\", \"review_summary\": \"Great story, wondrously told and acted\"}\n",
            "\n"
          ]
        }
      ]
    },
    {
      "cell_type": "markdown",
      "source": [
        "Apparently. json file is invalid in some lines, so we need to clean the data"
      ],
      "metadata": {
        "id": "28Yz4yHN-_X3"
      }
    },
    {
      "cell_type": "code",
      "source": [
        "import json\n",
        "\n",
        "fixed_lines = []\n",
        "with open(file_path2, \"r\", encoding=\"utf-8\") as f:\n",
        "    for line in f:\n",
        "        try:\n",
        "            fixed_lines.append(json.loads(line.strip()))  # Parse each line safely\n",
        "        except json.JSONDecodeError:\n",
        "            print(\"Skipping bad line:\", line)"
      ],
      "metadata": {
        "id": "ez4O_9_L_EdO",
        "colab": {
          "base_uri": "https://localhost:8080/"
        },
        "outputId": "f346115b-7bff-4ee9-cfd0-7bfb61e1ebc0"
      },
      "execution_count": 7,
      "outputs": [
        {
          "output_type": "stream",
          "name": "stdout",
          "text": [
            "Skipping bad line: {\"review_date\": \"12 April 2007\", \"movie_id\": \"tt0407887\", \"user_id\": \"ur11564203\", \"is_spoiler\": false, \"review_text\": \"Seriously, what's the big fuss about this movie? Too long, too pointless, too slow. After an hour and a half I just couldn't keep watching it. I like suspense movies. This isn't one. \n"
          ]
        }
      ]
    },
    {
      "cell_type": "code",
      "source": [
        "df_spoilers = pd.DataFrame(fixed_lines)"
      ],
      "metadata": {
        "id": "Arf_Io4-_JJd"
      },
      "execution_count": 8,
      "outputs": []
    },
    {
      "cell_type": "code",
      "source": [
        "df_spoilers.tail()"
      ],
      "metadata": {
        "colab": {
          "base_uri": "https://localhost:8080/",
          "height": 293
        },
        "outputId": "4b3b5988-df55-4eea-da4d-09d7982d034e",
        "id": "0CU_WOeV5CA0"
      },
      "execution_count": 9,
      "outputs": [
        {
          "output_type": "execute_result",
          "data": {
            "text/plain": [
              "            review_date   movie_id     user_id  is_spoiler  \\\n",
              "34548  3 September 2007  tt0407887   ur0487270       False   \n",
              "34549  27 February 2007  tt0407887   ur0214998       False   \n",
              "34550   3 November 2007  tt0407887   ur0989035       False   \n",
              "34551   10 October 2006  tt0407887  ur12111264       False   \n",
              "34552     28 April 2007  tt0407887  ur15166863       False   \n",
              "\n",
              "                                             review_text rating  \\\n",
              "34548  This is a terrible movie. It's two and a half ...      1   \n",
              "34549  This movie sucked big time. I agree with all o...      1   \n",
              "34550  Cocky Boston police detective with the Special...      6   \n",
              "34551  Sorry, thought this was very bad.Terrible stor...      1   \n",
              "34552  I am not a real film buff, and neither is my w...      3   \n",
              "\n",
              "                                         review_summary  \n",
              "34548          The Departed--and not a minute too soon.  \n",
              "34549                       Just as the nay sayers said  \n",
              "34550         \"Honesty is not synonymous with truth...\"  \n",
              "34551                               Am I the only one?!  \n",
              "34552  I couldn't believe this film won best picture...  "
            ],
            "text/html": [
              "\n",
              "  <div id=\"df-4998096d-c4e8-4cee-a016-1ff052c88920\" class=\"colab-df-container\">\n",
              "    <div>\n",
              "<style scoped>\n",
              "    .dataframe tbody tr th:only-of-type {\n",
              "        vertical-align: middle;\n",
              "    }\n",
              "\n",
              "    .dataframe tbody tr th {\n",
              "        vertical-align: top;\n",
              "    }\n",
              "\n",
              "    .dataframe thead th {\n",
              "        text-align: right;\n",
              "    }\n",
              "</style>\n",
              "<table border=\"1\" class=\"dataframe\">\n",
              "  <thead>\n",
              "    <tr style=\"text-align: right;\">\n",
              "      <th></th>\n",
              "      <th>review_date</th>\n",
              "      <th>movie_id</th>\n",
              "      <th>user_id</th>\n",
              "      <th>is_spoiler</th>\n",
              "      <th>review_text</th>\n",
              "      <th>rating</th>\n",
              "      <th>review_summary</th>\n",
              "    </tr>\n",
              "  </thead>\n",
              "  <tbody>\n",
              "    <tr>\n",
              "      <th>34548</th>\n",
              "      <td>3 September 2007</td>\n",
              "      <td>tt0407887</td>\n",
              "      <td>ur0487270</td>\n",
              "      <td>False</td>\n",
              "      <td>This is a terrible movie. It's two and a half ...</td>\n",
              "      <td>1</td>\n",
              "      <td>The Departed--and not a minute too soon.</td>\n",
              "    </tr>\n",
              "    <tr>\n",
              "      <th>34549</th>\n",
              "      <td>27 February 2007</td>\n",
              "      <td>tt0407887</td>\n",
              "      <td>ur0214998</td>\n",
              "      <td>False</td>\n",
              "      <td>This movie sucked big time. I agree with all o...</td>\n",
              "      <td>1</td>\n",
              "      <td>Just as the nay sayers said</td>\n",
              "    </tr>\n",
              "    <tr>\n",
              "      <th>34550</th>\n",
              "      <td>3 November 2007</td>\n",
              "      <td>tt0407887</td>\n",
              "      <td>ur0989035</td>\n",
              "      <td>False</td>\n",
              "      <td>Cocky Boston police detective with the Special...</td>\n",
              "      <td>6</td>\n",
              "      <td>\"Honesty is not synonymous with truth...\"</td>\n",
              "    </tr>\n",
              "    <tr>\n",
              "      <th>34551</th>\n",
              "      <td>10 October 2006</td>\n",
              "      <td>tt0407887</td>\n",
              "      <td>ur12111264</td>\n",
              "      <td>False</td>\n",
              "      <td>Sorry, thought this was very bad.Terrible stor...</td>\n",
              "      <td>1</td>\n",
              "      <td>Am I the only one?!</td>\n",
              "    </tr>\n",
              "    <tr>\n",
              "      <th>34552</th>\n",
              "      <td>28 April 2007</td>\n",
              "      <td>tt0407887</td>\n",
              "      <td>ur15166863</td>\n",
              "      <td>False</td>\n",
              "      <td>I am not a real film buff, and neither is my w...</td>\n",
              "      <td>3</td>\n",
              "      <td>I couldn't believe this film won best picture...</td>\n",
              "    </tr>\n",
              "  </tbody>\n",
              "</table>\n",
              "</div>\n",
              "    <div class=\"colab-df-buttons\">\n",
              "\n",
              "  <div class=\"colab-df-container\">\n",
              "    <button class=\"colab-df-convert\" onclick=\"convertToInteractive('df-4998096d-c4e8-4cee-a016-1ff052c88920')\"\n",
              "            title=\"Convert this dataframe to an interactive table.\"\n",
              "            style=\"display:none;\">\n",
              "\n",
              "  <svg xmlns=\"http://www.w3.org/2000/svg\" height=\"24px\" viewBox=\"0 -960 960 960\">\n",
              "    <path d=\"M120-120v-720h720v720H120Zm60-500h600v-160H180v160Zm220 220h160v-160H400v160Zm0 220h160v-160H400v160ZM180-400h160v-160H180v160Zm440 0h160v-160H620v160ZM180-180h160v-160H180v160Zm440 0h160v-160H620v160Z\"/>\n",
              "  </svg>\n",
              "    </button>\n",
              "\n",
              "  <style>\n",
              "    .colab-df-container {\n",
              "      display:flex;\n",
              "      gap: 12px;\n",
              "    }\n",
              "\n",
              "    .colab-df-convert {\n",
              "      background-color: #E8F0FE;\n",
              "      border: none;\n",
              "      border-radius: 50%;\n",
              "      cursor: pointer;\n",
              "      display: none;\n",
              "      fill: #1967D2;\n",
              "      height: 32px;\n",
              "      padding: 0 0 0 0;\n",
              "      width: 32px;\n",
              "    }\n",
              "\n",
              "    .colab-df-convert:hover {\n",
              "      background-color: #E2EBFA;\n",
              "      box-shadow: 0px 1px 2px rgba(60, 64, 67, 0.3), 0px 1px 3px 1px rgba(60, 64, 67, 0.15);\n",
              "      fill: #174EA6;\n",
              "    }\n",
              "\n",
              "    .colab-df-buttons div {\n",
              "      margin-bottom: 4px;\n",
              "    }\n",
              "\n",
              "    [theme=dark] .colab-df-convert {\n",
              "      background-color: #3B4455;\n",
              "      fill: #D2E3FC;\n",
              "    }\n",
              "\n",
              "    [theme=dark] .colab-df-convert:hover {\n",
              "      background-color: #434B5C;\n",
              "      box-shadow: 0px 1px 3px 1px rgba(0, 0, 0, 0.15);\n",
              "      filter: drop-shadow(0px 1px 2px rgba(0, 0, 0, 0.3));\n",
              "      fill: #FFFFFF;\n",
              "    }\n",
              "  </style>\n",
              "\n",
              "    <script>\n",
              "      const buttonEl =\n",
              "        document.querySelector('#df-4998096d-c4e8-4cee-a016-1ff052c88920 button.colab-df-convert');\n",
              "      buttonEl.style.display =\n",
              "        google.colab.kernel.accessAllowed ? 'block' : 'none';\n",
              "\n",
              "      async function convertToInteractive(key) {\n",
              "        const element = document.querySelector('#df-4998096d-c4e8-4cee-a016-1ff052c88920');\n",
              "        const dataTable =\n",
              "          await google.colab.kernel.invokeFunction('convertToInteractive',\n",
              "                                                    [key], {});\n",
              "        if (!dataTable) return;\n",
              "\n",
              "        const docLinkHtml = 'Like what you see? Visit the ' +\n",
              "          '<a target=\"_blank\" href=https://colab.research.google.com/notebooks/data_table.ipynb>data table notebook</a>'\n",
              "          + ' to learn more about interactive tables.';\n",
              "        element.innerHTML = '';\n",
              "        dataTable['output_type'] = 'display_data';\n",
              "        await google.colab.output.renderOutput(dataTable, element);\n",
              "        const docLink = document.createElement('div');\n",
              "        docLink.innerHTML = docLinkHtml;\n",
              "        element.appendChild(docLink);\n",
              "      }\n",
              "    </script>\n",
              "  </div>\n",
              "\n",
              "\n",
              "<div id=\"df-dab1daab-5c56-4015-965b-a0b65075c409\">\n",
              "  <button class=\"colab-df-quickchart\" onclick=\"quickchart('df-dab1daab-5c56-4015-965b-a0b65075c409')\"\n",
              "            title=\"Suggest charts\"\n",
              "            style=\"display:none;\">\n",
              "\n",
              "<svg xmlns=\"http://www.w3.org/2000/svg\" height=\"24px\"viewBox=\"0 0 24 24\"\n",
              "     width=\"24px\">\n",
              "    <g>\n",
              "        <path d=\"M19 3H5c-1.1 0-2 .9-2 2v14c0 1.1.9 2 2 2h14c1.1 0 2-.9 2-2V5c0-1.1-.9-2-2-2zM9 17H7v-7h2v7zm4 0h-2V7h2v10zm4 0h-2v-4h2v4z\"/>\n",
              "    </g>\n",
              "</svg>\n",
              "  </button>\n",
              "\n",
              "<style>\n",
              "  .colab-df-quickchart {\n",
              "      --bg-color: #E8F0FE;\n",
              "      --fill-color: #1967D2;\n",
              "      --hover-bg-color: #E2EBFA;\n",
              "      --hover-fill-color: #174EA6;\n",
              "      --disabled-fill-color: #AAA;\n",
              "      --disabled-bg-color: #DDD;\n",
              "  }\n",
              "\n",
              "  [theme=dark] .colab-df-quickchart {\n",
              "      --bg-color: #3B4455;\n",
              "      --fill-color: #D2E3FC;\n",
              "      --hover-bg-color: #434B5C;\n",
              "      --hover-fill-color: #FFFFFF;\n",
              "      --disabled-bg-color: #3B4455;\n",
              "      --disabled-fill-color: #666;\n",
              "  }\n",
              "\n",
              "  .colab-df-quickchart {\n",
              "    background-color: var(--bg-color);\n",
              "    border: none;\n",
              "    border-radius: 50%;\n",
              "    cursor: pointer;\n",
              "    display: none;\n",
              "    fill: var(--fill-color);\n",
              "    height: 32px;\n",
              "    padding: 0;\n",
              "    width: 32px;\n",
              "  }\n",
              "\n",
              "  .colab-df-quickchart:hover {\n",
              "    background-color: var(--hover-bg-color);\n",
              "    box-shadow: 0 1px 2px rgba(60, 64, 67, 0.3), 0 1px 3px 1px rgba(60, 64, 67, 0.15);\n",
              "    fill: var(--button-hover-fill-color);\n",
              "  }\n",
              "\n",
              "  .colab-df-quickchart-complete:disabled,\n",
              "  .colab-df-quickchart-complete:disabled:hover {\n",
              "    background-color: var(--disabled-bg-color);\n",
              "    fill: var(--disabled-fill-color);\n",
              "    box-shadow: none;\n",
              "  }\n",
              "\n",
              "  .colab-df-spinner {\n",
              "    border: 2px solid var(--fill-color);\n",
              "    border-color: transparent;\n",
              "    border-bottom-color: var(--fill-color);\n",
              "    animation:\n",
              "      spin 1s steps(1) infinite;\n",
              "  }\n",
              "\n",
              "  @keyframes spin {\n",
              "    0% {\n",
              "      border-color: transparent;\n",
              "      border-bottom-color: var(--fill-color);\n",
              "      border-left-color: var(--fill-color);\n",
              "    }\n",
              "    20% {\n",
              "      border-color: transparent;\n",
              "      border-left-color: var(--fill-color);\n",
              "      border-top-color: var(--fill-color);\n",
              "    }\n",
              "    30% {\n",
              "      border-color: transparent;\n",
              "      border-left-color: var(--fill-color);\n",
              "      border-top-color: var(--fill-color);\n",
              "      border-right-color: var(--fill-color);\n",
              "    }\n",
              "    40% {\n",
              "      border-color: transparent;\n",
              "      border-right-color: var(--fill-color);\n",
              "      border-top-color: var(--fill-color);\n",
              "    }\n",
              "    60% {\n",
              "      border-color: transparent;\n",
              "      border-right-color: var(--fill-color);\n",
              "    }\n",
              "    80% {\n",
              "      border-color: transparent;\n",
              "      border-right-color: var(--fill-color);\n",
              "      border-bottom-color: var(--fill-color);\n",
              "    }\n",
              "    90% {\n",
              "      border-color: transparent;\n",
              "      border-bottom-color: var(--fill-color);\n",
              "    }\n",
              "  }\n",
              "</style>\n",
              "\n",
              "  <script>\n",
              "    async function quickchart(key) {\n",
              "      const quickchartButtonEl =\n",
              "        document.querySelector('#' + key + ' button');\n",
              "      quickchartButtonEl.disabled = true;  // To prevent multiple clicks.\n",
              "      quickchartButtonEl.classList.add('colab-df-spinner');\n",
              "      try {\n",
              "        const charts = await google.colab.kernel.invokeFunction(\n",
              "            'suggestCharts', [key], {});\n",
              "      } catch (error) {\n",
              "        console.error('Error during call to suggestCharts:', error);\n",
              "      }\n",
              "      quickchartButtonEl.classList.remove('colab-df-spinner');\n",
              "      quickchartButtonEl.classList.add('colab-df-quickchart-complete');\n",
              "    }\n",
              "    (() => {\n",
              "      let quickchartButtonEl =\n",
              "        document.querySelector('#df-dab1daab-5c56-4015-965b-a0b65075c409 button');\n",
              "      quickchartButtonEl.style.display =\n",
              "        google.colab.kernel.accessAllowed ? 'block' : 'none';\n",
              "    })();\n",
              "  </script>\n",
              "</div>\n",
              "\n",
              "    </div>\n",
              "  </div>\n"
            ],
            "application/vnd.google.colaboratory.intrinsic+json": {
              "type": "dataframe",
              "repr_error": "0"
            }
          },
          "metadata": {},
          "execution_count": 9
        }
      ]
    },
    {
      "cell_type": "code",
      "source": [
        "df_spoilers['review_text'][0]"
      ],
      "metadata": {
        "colab": {
          "base_uri": "https://localhost:8080/",
          "height": 140
        },
        "outputId": "926cd1e1-c6b9-4aa6-f811-d21f2699940a",
        "id": "SYH3OIUm5CA1"
      },
      "execution_count": 10,
      "outputs": [
        {
          "output_type": "execute_result",
          "data": {
            "text/plain": [
              "'In its Oscar year, Shawshank Redemption (written and directed by Frank Darabont, after the novella Rita Hayworth and the Shawshank Redemption, by Stephen King) was nominated for seven Academy Awards, and walked away with zero. Best Picture went to Forrest Gump, while Shawshank and Pulp Fiction were \"just happy to be nominated.\" Of course hindsight is 20/20, but while history looks back on Gump as a good film, Pulp and Redemption are remembered as some of the all-time best. Pulp, however, was a success from the word \"go,\" making a huge splash at Cannes and making its writer-director an American master after only two films. For Andy Dufresne and Co., success didn\\'t come easy. Fortunately, failure wasn\\'t a life sentence.After opening on 33 screens with take of $727,327, the $25M film fell fast from theatres and finished with a mere $28.3M. The reasons for failure are many. Firstly, the title is a clunker. While iconic to fans today, in 1994, people knew not and cared not what a \\'Shawshank\\' was. On the DVD, Tim Robbins laughs recounting fans congratulating him on \"that \\'Rickshaw\\' movie.\" Marketing-wise, the film\\'s a nightmare, as \\'prison drama\\' is a tough sell to women, and the story of love between two best friends doesn\\'t spell winner to men. Worst of all, the movie is slow as molasses. As Desson Thomson writes for the Washington Post, \"it wanders down subplots at every opportunity and ignores an abundance of narrative exit points before settling on its finale.\" But it is these same weaknesses that make the film so strong.Firstly, its setting. The opening aerial shots of the prison are a total eye-opener. This is an amazing piece of architecture, strong and Gothic in design. Immediately, the prison becomes a character. It casts its shadow over most of the film, its tall stone walls stretching above every shot. It towers over the men it contains, blotting out all memories of the outside world. Only Andy (Robbins) holds onto hope. It\\'s in music, it\\'s in the sandy beaches of Zihuatanejo; \"In here\\'s where you need it most,\" he says. \"You need it so you don\\'t forget. Forget that there are places in the world that aren\\'t made out of stone. That there\\'s a - there\\'s a - there\\'s something inside that\\'s yours, that they can\\'t touch.\" Red (Morgan Freeman) doesn\\'t think much of Andy at first, picking \"that tall glass o\\' milk with the silver spoon up his ass\" as the first new fish to crack. Andy says not a word, and losing his bet, Red resents him for it. But over time, as the two get to know each other, they quickly become the best of friends. This again, is one of the film\\'s major strengths. Many movies are about love, many flicks have a side-kick to the hero, but Shawshank is the only one I can think of that looks honestly at the love between two best friends. It seems odd that Hollywood would skip this relationship time and again, when it\\'s a feeling that weighs so much into everyone\\'s day to day lives. Perhaps it\\'s too sentimental to seem conventional, but Shawshank\\'s core friendship hits all the right notes, and the film is much better for it.It\\'s pacing is deliberate as well. As we spend the film watching the same actors, it is easy to forget that the movie\\'s timeline spans well over 20 years. Such a huge measure of time would pass slowly in reality, and would only be amplified in prison. And it\\'s not as if the film lacks interest in these moments. It still knows where it\\'s going, it merely intends on taking its sweet time getting there. It pays off as well, as the tedium of prison life makes the climax that much more exhilarating. For anyone who sees it, it is a moment never to be forgotten.With themes of faith and hope, there is a definite religious subtext to be found here. Quiet, selfless and carefree, Andy is an obvious Christ figure. Warden Norton (Bob Gunton) is obviously modeled on Richard Nixon, who, in his day, was as close to a personified Satan as they come. But if you aren\\'t looking for subtexts, the movie speaks to anyone in search of hope. It is a compelling drama, and a very moving film, perfectly written, acted and shot. They just don\\'t come much better than this.OVERALL SCORE: 9.8/10 = A+ The Shawshank Redemption served as a message of hope to Hollywood as well. More than any film in memory, it proved there is life after box office. Besting Forrest and Fiction, it ran solely on strong word of mouth and became the hottest rented film of 1995. It currently sits at #2 in the IMDb\\'s Top 250 Films, occasionally swapping spots with The Godfather as the top ranked film of all time -- redemption indeed. If you haven\\'t seen it yet, what the hell are you waiting for? As Andy says, \"It comes down a simple choice, really. Either get busy living, or get busy dying.\"'"
            ],
            "application/vnd.google.colaboratory.intrinsic+json": {
              "type": "string"
            }
          },
          "metadata": {},
          "execution_count": 10
        }
      ]
    },
    {
      "cell_type": "markdown",
      "source": [
        "### Creating one common dataset"
      ],
      "metadata": {
        "id": "Z7blJPlYgf3s"
      }
    },
    {
      "cell_type": "code",
      "source": [
        "combined_df = pd.merge(df_spoilers, df_plot_summaries, on='movie_id')\n",
        "\n",
        "combined_df.tail()"
      ],
      "metadata": {
        "colab": {
          "base_uri": "https://localhost:8080/",
          "height": 538
        },
        "id": "X7kVGM3MhaI8",
        "outputId": "f5845975-ab5e-412b-f572-0629e42206f3"
      },
      "execution_count": 11,
      "outputs": [
        {
          "output_type": "execute_result",
          "data": {
            "text/plain": [
              "            review_date   movie_id     user_id  is_spoiler  \\\n",
              "34548  3 September 2007  tt0407887   ur0487270       False   \n",
              "34549  27 February 2007  tt0407887   ur0214998       False   \n",
              "34550   3 November 2007  tt0407887   ur0989035       False   \n",
              "34551   10 October 2006  tt0407887  ur12111264       False   \n",
              "34552     28 April 2007  tt0407887  ur15166863       False   \n",
              "\n",
              "                                             review_text rating_x  \\\n",
              "34548  This is a terrible movie. It's two and a half ...        1   \n",
              "34549  This movie sucked big time. I agree with all o...        1   \n",
              "34550  Cocky Boston police detective with the Special...        6   \n",
              "34551  Sorry, thought this was very bad.Terrible stor...        1   \n",
              "34552  I am not a real film buff, and neither is my w...        3   \n",
              "\n",
              "                                         review_summary  \\\n",
              "34548          The Departed--and not a minute too soon.   \n",
              "34549                       Just as the nay sayers said   \n",
              "34550         \"Honesty is not synonymous with truth...\"   \n",
              "34551                               Am I the only one?!   \n",
              "34552  I couldn't believe this film won best picture...   \n",
              "\n",
              "                                            plot_summary  duration  \\\n",
              "34548  In South Boston, the state police force is wag...  2h 31min   \n",
              "34549  In South Boston, the state police force is wag...  2h 31min   \n",
              "34550  In South Boston, the state police force is wag...  2h 31min   \n",
              "34551  In South Boston, the state police force is wag...  2h 31min   \n",
              "34552  In South Boston, the state police force is wag...  2h 31min   \n",
              "\n",
              "                          genre  rating_y release_date  \\\n",
              "34548  [Crime, Drama, Thriller]       8.5   2006-10-06   \n",
              "34549  [Crime, Drama, Thriller]       8.5   2006-10-06   \n",
              "34550  [Crime, Drama, Thriller]       8.5   2006-10-06   \n",
              "34551  [Crime, Drama, Thriller]       8.5   2006-10-06   \n",
              "34552  [Crime, Drama, Thriller]       8.5   2006-10-06   \n",
              "\n",
              "                                           plot_synopsis  \n",
              "34548  In voiceover, Irish-American mobster Frank Cos...  \n",
              "34549  In voiceover, Irish-American mobster Frank Cos...  \n",
              "34550  In voiceover, Irish-American mobster Frank Cos...  \n",
              "34551  In voiceover, Irish-American mobster Frank Cos...  \n",
              "34552  In voiceover, Irish-American mobster Frank Cos...  "
            ],
            "text/html": [
              "\n",
              "  <div id=\"df-d3036627-41ff-41ee-a653-56ee46838cbc\" class=\"colab-df-container\">\n",
              "    <div>\n",
              "<style scoped>\n",
              "    .dataframe tbody tr th:only-of-type {\n",
              "        vertical-align: middle;\n",
              "    }\n",
              "\n",
              "    .dataframe tbody tr th {\n",
              "        vertical-align: top;\n",
              "    }\n",
              "\n",
              "    .dataframe thead th {\n",
              "        text-align: right;\n",
              "    }\n",
              "</style>\n",
              "<table border=\"1\" class=\"dataframe\">\n",
              "  <thead>\n",
              "    <tr style=\"text-align: right;\">\n",
              "      <th></th>\n",
              "      <th>review_date</th>\n",
              "      <th>movie_id</th>\n",
              "      <th>user_id</th>\n",
              "      <th>is_spoiler</th>\n",
              "      <th>review_text</th>\n",
              "      <th>rating_x</th>\n",
              "      <th>review_summary</th>\n",
              "      <th>plot_summary</th>\n",
              "      <th>duration</th>\n",
              "      <th>genre</th>\n",
              "      <th>rating_y</th>\n",
              "      <th>release_date</th>\n",
              "      <th>plot_synopsis</th>\n",
              "    </tr>\n",
              "  </thead>\n",
              "  <tbody>\n",
              "    <tr>\n",
              "      <th>34548</th>\n",
              "      <td>3 September 2007</td>\n",
              "      <td>tt0407887</td>\n",
              "      <td>ur0487270</td>\n",
              "      <td>False</td>\n",
              "      <td>This is a terrible movie. It's two and a half ...</td>\n",
              "      <td>1</td>\n",
              "      <td>The Departed--and not a minute too soon.</td>\n",
              "      <td>In South Boston, the state police force is wag...</td>\n",
              "      <td>2h 31min</td>\n",
              "      <td>[Crime, Drama, Thriller]</td>\n",
              "      <td>8.5</td>\n",
              "      <td>2006-10-06</td>\n",
              "      <td>In voiceover, Irish-American mobster Frank Cos...</td>\n",
              "    </tr>\n",
              "    <tr>\n",
              "      <th>34549</th>\n",
              "      <td>27 February 2007</td>\n",
              "      <td>tt0407887</td>\n",
              "      <td>ur0214998</td>\n",
              "      <td>False</td>\n",
              "      <td>This movie sucked big time. I agree with all o...</td>\n",
              "      <td>1</td>\n",
              "      <td>Just as the nay sayers said</td>\n",
              "      <td>In South Boston, the state police force is wag...</td>\n",
              "      <td>2h 31min</td>\n",
              "      <td>[Crime, Drama, Thriller]</td>\n",
              "      <td>8.5</td>\n",
              "      <td>2006-10-06</td>\n",
              "      <td>In voiceover, Irish-American mobster Frank Cos...</td>\n",
              "    </tr>\n",
              "    <tr>\n",
              "      <th>34550</th>\n",
              "      <td>3 November 2007</td>\n",
              "      <td>tt0407887</td>\n",
              "      <td>ur0989035</td>\n",
              "      <td>False</td>\n",
              "      <td>Cocky Boston police detective with the Special...</td>\n",
              "      <td>6</td>\n",
              "      <td>\"Honesty is not synonymous with truth...\"</td>\n",
              "      <td>In South Boston, the state police force is wag...</td>\n",
              "      <td>2h 31min</td>\n",
              "      <td>[Crime, Drama, Thriller]</td>\n",
              "      <td>8.5</td>\n",
              "      <td>2006-10-06</td>\n",
              "      <td>In voiceover, Irish-American mobster Frank Cos...</td>\n",
              "    </tr>\n",
              "    <tr>\n",
              "      <th>34551</th>\n",
              "      <td>10 October 2006</td>\n",
              "      <td>tt0407887</td>\n",
              "      <td>ur12111264</td>\n",
              "      <td>False</td>\n",
              "      <td>Sorry, thought this was very bad.Terrible stor...</td>\n",
              "      <td>1</td>\n",
              "      <td>Am I the only one?!</td>\n",
              "      <td>In South Boston, the state police force is wag...</td>\n",
              "      <td>2h 31min</td>\n",
              "      <td>[Crime, Drama, Thriller]</td>\n",
              "      <td>8.5</td>\n",
              "      <td>2006-10-06</td>\n",
              "      <td>In voiceover, Irish-American mobster Frank Cos...</td>\n",
              "    </tr>\n",
              "    <tr>\n",
              "      <th>34552</th>\n",
              "      <td>28 April 2007</td>\n",
              "      <td>tt0407887</td>\n",
              "      <td>ur15166863</td>\n",
              "      <td>False</td>\n",
              "      <td>I am not a real film buff, and neither is my w...</td>\n",
              "      <td>3</td>\n",
              "      <td>I couldn't believe this film won best picture...</td>\n",
              "      <td>In South Boston, the state police force is wag...</td>\n",
              "      <td>2h 31min</td>\n",
              "      <td>[Crime, Drama, Thriller]</td>\n",
              "      <td>8.5</td>\n",
              "      <td>2006-10-06</td>\n",
              "      <td>In voiceover, Irish-American mobster Frank Cos...</td>\n",
              "    </tr>\n",
              "  </tbody>\n",
              "</table>\n",
              "</div>\n",
              "    <div class=\"colab-df-buttons\">\n",
              "\n",
              "  <div class=\"colab-df-container\">\n",
              "    <button class=\"colab-df-convert\" onclick=\"convertToInteractive('df-d3036627-41ff-41ee-a653-56ee46838cbc')\"\n",
              "            title=\"Convert this dataframe to an interactive table.\"\n",
              "            style=\"display:none;\">\n",
              "\n",
              "  <svg xmlns=\"http://www.w3.org/2000/svg\" height=\"24px\" viewBox=\"0 -960 960 960\">\n",
              "    <path d=\"M120-120v-720h720v720H120Zm60-500h600v-160H180v160Zm220 220h160v-160H400v160Zm0 220h160v-160H400v160ZM180-400h160v-160H180v160Zm440 0h160v-160H620v160ZM180-180h160v-160H180v160Zm440 0h160v-160H620v160Z\"/>\n",
              "  </svg>\n",
              "    </button>\n",
              "\n",
              "  <style>\n",
              "    .colab-df-container {\n",
              "      display:flex;\n",
              "      gap: 12px;\n",
              "    }\n",
              "\n",
              "    .colab-df-convert {\n",
              "      background-color: #E8F0FE;\n",
              "      border: none;\n",
              "      border-radius: 50%;\n",
              "      cursor: pointer;\n",
              "      display: none;\n",
              "      fill: #1967D2;\n",
              "      height: 32px;\n",
              "      padding: 0 0 0 0;\n",
              "      width: 32px;\n",
              "    }\n",
              "\n",
              "    .colab-df-convert:hover {\n",
              "      background-color: #E2EBFA;\n",
              "      box-shadow: 0px 1px 2px rgba(60, 64, 67, 0.3), 0px 1px 3px 1px rgba(60, 64, 67, 0.15);\n",
              "      fill: #174EA6;\n",
              "    }\n",
              "\n",
              "    .colab-df-buttons div {\n",
              "      margin-bottom: 4px;\n",
              "    }\n",
              "\n",
              "    [theme=dark] .colab-df-convert {\n",
              "      background-color: #3B4455;\n",
              "      fill: #D2E3FC;\n",
              "    }\n",
              "\n",
              "    [theme=dark] .colab-df-convert:hover {\n",
              "      background-color: #434B5C;\n",
              "      box-shadow: 0px 1px 3px 1px rgba(0, 0, 0, 0.15);\n",
              "      filter: drop-shadow(0px 1px 2px rgba(0, 0, 0, 0.3));\n",
              "      fill: #FFFFFF;\n",
              "    }\n",
              "  </style>\n",
              "\n",
              "    <script>\n",
              "      const buttonEl =\n",
              "        document.querySelector('#df-d3036627-41ff-41ee-a653-56ee46838cbc button.colab-df-convert');\n",
              "      buttonEl.style.display =\n",
              "        google.colab.kernel.accessAllowed ? 'block' : 'none';\n",
              "\n",
              "      async function convertToInteractive(key) {\n",
              "        const element = document.querySelector('#df-d3036627-41ff-41ee-a653-56ee46838cbc');\n",
              "        const dataTable =\n",
              "          await google.colab.kernel.invokeFunction('convertToInteractive',\n",
              "                                                    [key], {});\n",
              "        if (!dataTable) return;\n",
              "\n",
              "        const docLinkHtml = 'Like what you see? Visit the ' +\n",
              "          '<a target=\"_blank\" href=https://colab.research.google.com/notebooks/data_table.ipynb>data table notebook</a>'\n",
              "          + ' to learn more about interactive tables.';\n",
              "        element.innerHTML = '';\n",
              "        dataTable['output_type'] = 'display_data';\n",
              "        await google.colab.output.renderOutput(dataTable, element);\n",
              "        const docLink = document.createElement('div');\n",
              "        docLink.innerHTML = docLinkHtml;\n",
              "        element.appendChild(docLink);\n",
              "      }\n",
              "    </script>\n",
              "  </div>\n",
              "\n",
              "\n",
              "<div id=\"df-cb7490b0-97e9-4f09-a584-00c535b359a6\">\n",
              "  <button class=\"colab-df-quickchart\" onclick=\"quickchart('df-cb7490b0-97e9-4f09-a584-00c535b359a6')\"\n",
              "            title=\"Suggest charts\"\n",
              "            style=\"display:none;\">\n",
              "\n",
              "<svg xmlns=\"http://www.w3.org/2000/svg\" height=\"24px\"viewBox=\"0 0 24 24\"\n",
              "     width=\"24px\">\n",
              "    <g>\n",
              "        <path d=\"M19 3H5c-1.1 0-2 .9-2 2v14c0 1.1.9 2 2 2h14c1.1 0 2-.9 2-2V5c0-1.1-.9-2-2-2zM9 17H7v-7h2v7zm4 0h-2V7h2v10zm4 0h-2v-4h2v4z\"/>\n",
              "    </g>\n",
              "</svg>\n",
              "  </button>\n",
              "\n",
              "<style>\n",
              "  .colab-df-quickchart {\n",
              "      --bg-color: #E8F0FE;\n",
              "      --fill-color: #1967D2;\n",
              "      --hover-bg-color: #E2EBFA;\n",
              "      --hover-fill-color: #174EA6;\n",
              "      --disabled-fill-color: #AAA;\n",
              "      --disabled-bg-color: #DDD;\n",
              "  }\n",
              "\n",
              "  [theme=dark] .colab-df-quickchart {\n",
              "      --bg-color: #3B4455;\n",
              "      --fill-color: #D2E3FC;\n",
              "      --hover-bg-color: #434B5C;\n",
              "      --hover-fill-color: #FFFFFF;\n",
              "      --disabled-bg-color: #3B4455;\n",
              "      --disabled-fill-color: #666;\n",
              "  }\n",
              "\n",
              "  .colab-df-quickchart {\n",
              "    background-color: var(--bg-color);\n",
              "    border: none;\n",
              "    border-radius: 50%;\n",
              "    cursor: pointer;\n",
              "    display: none;\n",
              "    fill: var(--fill-color);\n",
              "    height: 32px;\n",
              "    padding: 0;\n",
              "    width: 32px;\n",
              "  }\n",
              "\n",
              "  .colab-df-quickchart:hover {\n",
              "    background-color: var(--hover-bg-color);\n",
              "    box-shadow: 0 1px 2px rgba(60, 64, 67, 0.3), 0 1px 3px 1px rgba(60, 64, 67, 0.15);\n",
              "    fill: var(--button-hover-fill-color);\n",
              "  }\n",
              "\n",
              "  .colab-df-quickchart-complete:disabled,\n",
              "  .colab-df-quickchart-complete:disabled:hover {\n",
              "    background-color: var(--disabled-bg-color);\n",
              "    fill: var(--disabled-fill-color);\n",
              "    box-shadow: none;\n",
              "  }\n",
              "\n",
              "  .colab-df-spinner {\n",
              "    border: 2px solid var(--fill-color);\n",
              "    border-color: transparent;\n",
              "    border-bottom-color: var(--fill-color);\n",
              "    animation:\n",
              "      spin 1s steps(1) infinite;\n",
              "  }\n",
              "\n",
              "  @keyframes spin {\n",
              "    0% {\n",
              "      border-color: transparent;\n",
              "      border-bottom-color: var(--fill-color);\n",
              "      border-left-color: var(--fill-color);\n",
              "    }\n",
              "    20% {\n",
              "      border-color: transparent;\n",
              "      border-left-color: var(--fill-color);\n",
              "      border-top-color: var(--fill-color);\n",
              "    }\n",
              "    30% {\n",
              "      border-color: transparent;\n",
              "      border-left-color: var(--fill-color);\n",
              "      border-top-color: var(--fill-color);\n",
              "      border-right-color: var(--fill-color);\n",
              "    }\n",
              "    40% {\n",
              "      border-color: transparent;\n",
              "      border-right-color: var(--fill-color);\n",
              "      border-top-color: var(--fill-color);\n",
              "    }\n",
              "    60% {\n",
              "      border-color: transparent;\n",
              "      border-right-color: var(--fill-color);\n",
              "    }\n",
              "    80% {\n",
              "      border-color: transparent;\n",
              "      border-right-color: var(--fill-color);\n",
              "      border-bottom-color: var(--fill-color);\n",
              "    }\n",
              "    90% {\n",
              "      border-color: transparent;\n",
              "      border-bottom-color: var(--fill-color);\n",
              "    }\n",
              "  }\n",
              "</style>\n",
              "\n",
              "  <script>\n",
              "    async function quickchart(key) {\n",
              "      const quickchartButtonEl =\n",
              "        document.querySelector('#' + key + ' button');\n",
              "      quickchartButtonEl.disabled = true;  // To prevent multiple clicks.\n",
              "      quickchartButtonEl.classList.add('colab-df-spinner');\n",
              "      try {\n",
              "        const charts = await google.colab.kernel.invokeFunction(\n",
              "            'suggestCharts', [key], {});\n",
              "      } catch (error) {\n",
              "        console.error('Error during call to suggestCharts:', error);\n",
              "      }\n",
              "      quickchartButtonEl.classList.remove('colab-df-spinner');\n",
              "      quickchartButtonEl.classList.add('colab-df-quickchart-complete');\n",
              "    }\n",
              "    (() => {\n",
              "      let quickchartButtonEl =\n",
              "        document.querySelector('#df-cb7490b0-97e9-4f09-a584-00c535b359a6 button');\n",
              "      quickchartButtonEl.style.display =\n",
              "        google.colab.kernel.accessAllowed ? 'block' : 'none';\n",
              "    })();\n",
              "  </script>\n",
              "</div>\n",
              "\n",
              "    </div>\n",
              "  </div>\n"
            ],
            "application/vnd.google.colaboratory.intrinsic+json": {
              "type": "dataframe",
              "repr_error": "0"
            }
          },
          "metadata": {},
          "execution_count": 11
        }
      ]
    },
    {
      "cell_type": "markdown",
      "source": [
        "## **2. Analysing Dataset**"
      ],
      "metadata": {
        "id": "67MmWVZmOjjZ"
      }
    },
    {
      "cell_type": "markdown",
      "source": [
        "### Percentage of spoilers in the dataset"
      ],
      "metadata": {
        "id": "EiecedswRJ4O"
      }
    },
    {
      "cell_type": "code",
      "source": [
        "import matplotlib.pyplot as plt"
      ],
      "metadata": {
        "id": "bM4C2lfp_pEj"
      },
      "execution_count": 12,
      "outputs": []
    },
    {
      "cell_type": "code",
      "source": [
        "is_spoiler_df = combined_df.groupby(\"is_spoiler\").size()\n",
        "print(is_spoiler_df)\n",
        "\n",
        "is_spoiler_df.plot.pie(y=is_spoiler_df.values, labels=is_spoiler_df.index, autopct='%1.1f%%', figsize=(7,7))\n",
        "\n",
        "plt.title(\"Is a review a spoiler?\")\n",
        "plt.show()"
      ],
      "metadata": {
        "colab": {
          "base_uri": "https://localhost:8080/",
          "height": 667
        },
        "id": "6SV7Cy5HmCBD",
        "outputId": "513c4481-f28f-4126-dc99-382fa8892b2f"
      },
      "execution_count": 15,
      "outputs": [
        {
          "output_type": "stream",
          "name": "stdout",
          "text": [
            "is_spoiler\n",
            "False    26394\n",
            "True      8159\n",
            "dtype: int64\n"
          ]
        },
        {
          "output_type": "display_data",
          "data": {
            "text/plain": [
              "<Figure size 700x700 with 1 Axes>"
            ],
            "image/png": "[encoded data removed]"
          },
          "metadata": {}
        }
      ]
    },
    {
      "cell_type": "markdown",
      "source": [
        "Genres in the dataset"
      ],
      "metadata": {
        "id": "OZtwyTOHuBwT"
      }
    },
    {
      "cell_type": "code",
      "source": [
        "genre_df = combined_df['genre']\n",
        "\n",
        "genre_df"
      ],
      "metadata": {
        "colab": {
          "base_uri": "https://localhost:8080/",
          "height": 458
        },
        "id": "SBREJ47Fr1qN",
        "outputId": "4c7ccf47-a6e7-4ff8-f614-29fac01b114e"
      },
      "execution_count": 18,
      "outputs": [
        {
          "output_type": "execute_result",
          "data": {
            "text/plain": [
              "0                  [Crime, Drama]\n",
              "1                  [Crime, Drama]\n",
              "2                  [Crime, Drama]\n",
              "3                  [Crime, Drama]\n",
              "4                  [Crime, Drama]\n",
              "                   ...           \n",
              "34548    [Crime, Drama, Thriller]\n",
              "34549    [Crime, Drama, Thriller]\n",
              "34550    [Crime, Drama, Thriller]\n",
              "34551    [Crime, Drama, Thriller]\n",
              "34552    [Crime, Drama, Thriller]\n",
              "Name: genre, Length: 34553, dtype: object"
            ],
            "text/html": [
              "<div>\n",
              "<style scoped>\n",
              "    .dataframe tbody tr th:only-of-type {\n",
              "        vertical-align: middle;\n",
              "    }\n",
              "\n",
              "    .dataframe tbody tr th {\n",
              "        vertical-align: top;\n",
              "    }\n",
              "\n",
              "    .dataframe thead th {\n",
              "        text-align: right;\n",
              "    }\n",
              "</style>\n",
              "<table border=\"1\" class=\"dataframe\">\n",
              "  <thead>\n",
              "    <tr style=\"text-align: right;\">\n",
              "      <th></th>\n",
              "      <th>genre</th>\n",
              "    </tr>\n",
              "  </thead>\n",
              "  <tbody>\n",
              "    <tr>\n",
              "      <th>0</th>\n",
              "      <td>[Crime, Drama]</td>\n",
              "    </tr>\n",
              "    <tr>\n",
              "      <th>1</th>\n",
              "      <td>[Crime, Drama]</td>\n",
              "    </tr>\n",
              "    <tr>\n",
              "      <th>2</th>\n",
              "      <td>[Crime, Drama]</td>\n",
              "    </tr>\n",
              "    <tr>\n",
              "      <th>3</th>\n",
              "      <td>[Crime, Drama]</td>\n",
              "    </tr>\n",
              "    <tr>\n",
              "      <th>4</th>\n",
              "      <td>[Crime, Drama]</td>\n",
              "    </tr>\n",
              "    <tr>\n",
              "      <th>...</th>\n",
              "      <td>...</td>\n",
              "    </tr>\n",
              "    <tr>\n",
              "      <th>34548</th>\n",
              "      <td>[Crime, Drama, Thriller]</td>\n",
              "    </tr>\n",
              "    <tr>\n",
              "      <th>34549</th>\n",
              "      <td>[Crime, Drama, Thriller]</td>\n",
              "    </tr>\n",
              "    <tr>\n",
              "      <th>34550</th>\n",
              "      <td>[Crime, Drama, Thriller]</td>\n",
              "    </tr>\n",
              "    <tr>\n",
              "      <th>34551</th>\n",
              "      <td>[Crime, Drama, Thriller]</td>\n",
              "    </tr>\n",
              "    <tr>\n",
              "      <th>34552</th>\n",
              "      <td>[Crime, Drama, Thriller]</td>\n",
              "    </tr>\n",
              "  </tbody>\n",
              "</table>\n",
              "<p>34553 rows × 1 columns</p>\n",
              "</div><br><label><b>dtype:</b> object</label>"
            ]
          },
          "metadata": {},
          "execution_count": 18
        }
      ]
    },
    {
      "cell_type": "code",
      "source": [
        "all_genres = set()\n",
        "\n",
        "for genres in genre_df:\n",
        "    if isinstance(genres, list):\n",
        "        # Add the whole combined genre list as a single entry\n",
        "        all_genres.add(str(genres)) # Convert the list to a string\n",
        "\n",
        "        # Add individual genres from the list\n",
        "        for genre in genres:\n",
        "            all_genres.add(genre)\n",
        "    else:\n",
        "        all_genres.add(genres)\n",
        "\n",
        "print(all_genres)\n",
        "print(len(all_genres))"
      ],
      "metadata": {
        "colab": {
          "base_uri": "https://localhost:8080/"
        },
        "id": "ND9TeH-QtgvM",
        "outputId": "004bef61-1c5b-4731-fc11-f3f9f1c6ffc1"
      },
      "execution_count": 19,
      "outputs": [
        {
          "output_type": "stream",
          "name": "stdout",
          "text": [
            "{\"['Biography', 'Drama', 'Music']\", \"['Animation', 'Adventure', 'Comedy']\", \"['Animation', 'Adventure', 'Family']\", 'Comedy', \"['Action', 'Adventure', 'Fantasy']\", \"['Crime', 'Drama', 'Thriller']\", 'Crime', 'Western', \"['Adventure', 'Drama', 'Fantasy']\", \"['Drama', 'War']\", \"['Action', 'Adventure']\", \"['Action', 'Sci-Fi']\", 'Biography', \"['Drama', 'Romance', 'War']\", \"['Comedy', 'Drama', 'Family']\", \"['Comedy', 'Drama', 'Romance']\", 'Horror', \"['Horror', 'Mystery', 'Thriller']\", \"['Biography', 'Crime', 'Drama']\", 'Family', 'Music', \"['Crime', 'Drama']\", 'Drama', 'History', 'Sci-Fi', \"['Action', 'Crime', 'Drama']\", 'War', 'Fantasy', 'Romance', 'Mystery', 'Action', 'Adventure', \"['Action', 'Adventure', 'Sci-Fi']\", \"['Drama', 'Romance']\", \"['Western']\", \"['Crime', 'Drama', 'Fantasy']\", 'Thriller', \"['Comedy', 'Drama', 'War']\", 'Animation', \"['Drama']\", \"['Biography', 'Comedy', 'Drama']\", \"['Drama', 'Family', 'Fantasy']\", \"['Crime', 'Drama', 'Mystery']\", \"['Adventure', 'Drama', 'Sci-Fi']\", \"['Biography', 'Drama', 'History']\", \"['Adventure', 'Drama']\"}\n",
            "46\n"
          ]
        }
      ]
    },
    {
      "cell_type": "code",
      "source": [
        "combined_df_exploded = combined_df.explode('genre') #converting list values of genres into rows, but only one will be stored if there are several!\n",
        "\n",
        "genre_df_exploded = combined_df_exploded['genre']\n",
        "\n",
        "genre_df_exploded"
      ],
      "metadata": {
        "id": "Nfn9tlcD0ALA",
        "outputId": "b3ccbefd-df5a-486c-aef0-ed8929f67a2c",
        "colab": {
          "base_uri": "https://localhost:8080/",
          "height": 458
        }
      },
      "execution_count": 20,
      "outputs": [
        {
          "output_type": "execute_result",
          "data": {
            "text/plain": [
              "0           Crime\n",
              "0           Drama\n",
              "1           Crime\n",
              "1           Drama\n",
              "2           Crime\n",
              "           ...   \n",
              "34551       Drama\n",
              "34551    Thriller\n",
              "34552       Crime\n",
              "34552       Drama\n",
              "34552    Thriller\n",
              "Name: genre, Length: 82569, dtype: object"
            ],
            "text/html": [
              "<div>\n",
              "<style scoped>\n",
              "    .dataframe tbody tr th:only-of-type {\n",
              "        vertical-align: middle;\n",
              "    }\n",
              "\n",
              "    .dataframe tbody tr th {\n",
              "        vertical-align: top;\n",
              "    }\n",
              "\n",
              "    .dataframe thead th {\n",
              "        text-align: right;\n",
              "    }\n",
              "</style>\n",
              "<table border=\"1\" class=\"dataframe\">\n",
              "  <thead>\n",
              "    <tr style=\"text-align: right;\">\n",
              "      <th></th>\n",
              "      <th>genre</th>\n",
              "    </tr>\n",
              "  </thead>\n",
              "  <tbody>\n",
              "    <tr>\n",
              "      <th>0</th>\n",
              "      <td>Crime</td>\n",
              "    </tr>\n",
              "    <tr>\n",
              "      <th>0</th>\n",
              "      <td>Drama</td>\n",
              "    </tr>\n",
              "    <tr>\n",
              "      <th>1</th>\n",
              "      <td>Crime</td>\n",
              "    </tr>\n",
              "    <tr>\n",
              "      <th>1</th>\n",
              "      <td>Drama</td>\n",
              "    </tr>\n",
              "    <tr>\n",
              "      <th>2</th>\n",
              "      <td>Crime</td>\n",
              "    </tr>\n",
              "    <tr>\n",
              "      <th>...</th>\n",
              "      <td>...</td>\n",
              "    </tr>\n",
              "    <tr>\n",
              "      <th>34551</th>\n",
              "      <td>Drama</td>\n",
              "    </tr>\n",
              "    <tr>\n",
              "      <th>34551</th>\n",
              "      <td>Thriller</td>\n",
              "    </tr>\n",
              "    <tr>\n",
              "      <th>34552</th>\n",
              "      <td>Crime</td>\n",
              "    </tr>\n",
              "    <tr>\n",
              "      <th>34552</th>\n",
              "      <td>Drama</td>\n",
              "    </tr>\n",
              "    <tr>\n",
              "      <th>34552</th>\n",
              "      <td>Thriller</td>\n",
              "    </tr>\n",
              "  </tbody>\n",
              "</table>\n",
              "<p>82569 rows × 1 columns</p>\n",
              "</div><br><label><b>dtype:</b> object</label>"
            ]
          },
          "metadata": {},
          "execution_count": 20
        }
      ]
    },
    {
      "cell_type": "code",
      "source": [
        "combined_df_exploded = combined_df.explode('genre') #converting list values of genres into rows, but only one will be stored if there are several!\n",
        "\n",
        "genre_df_exploded = combined_df_exploded['genre']\n",
        "\n",
        "genre_set = set()\n",
        "for genre in genre_df_exploded:\n",
        "  genre_set.add(genre)\n",
        "\n",
        "print(genre_set)\n",
        "print(len(genre_set))"
      ],
      "metadata": {
        "colab": {
          "base_uri": "https://localhost:8080/"
        },
        "id": "WTDOHlmzq6qX",
        "outputId": "863a5ddd-9ec2-432d-d9c0-b95738f72af3"
      },
      "execution_count": 21,
      "outputs": [
        {
          "output_type": "stream",
          "name": "stdout",
          "text": [
            "{'Horror', 'Comedy', 'Crime', 'Adventure', 'Western', 'Family', 'Music', 'Animation', 'Drama', 'Biography', 'History', 'Sci-Fi', 'War', 'Fantasy', 'Romance', 'Action', 'Thriller', 'Mystery'}\n",
            "18\n"
          ]
        }
      ]
    },
    {
      "cell_type": "markdown",
      "source": [
        "### Number and percentage of spoilers per genre in the dataset"
      ],
      "metadata": {
        "id": "bmqKkjgvCMSj"
      }
    },
    {
      "cell_type": "code",
      "source": [
        "import pandas as pd\n",
        "import matplotlib.pyplot as plt\n",
        "import seaborn as sns\n",
        "\n",
        "combined_df_exploded = combined_df.explode('genre')\n",
        "\n",
        "combined_df_exploded['is_spoiler'] = combined_df_exploded['is_spoiler'].astype(bool)\n",
        "\n",
        "# We divide the genres if there is a list of them\n",
        "combined_df_exploded = combined_df_exploded.explode('genre')\n",
        "\n",
        "# Group by genre and count the number of spoilers for each\n",
        "genre_spoiler_counts = combined_df_exploded.groupby('genre')['is_spoiler'].sum()\n",
        "genre_counts = combined_df_exploded['genre'].value_counts()\n",
        "\n",
        "genre_stats = pd.DataFrame({\n",
        "    'spoilers_count': genre_spoiler_counts,\n",
        "    'total_count': genre_counts\n",
        "})\n",
        "\n",
        "genre_stats['spoiler_percentage'] = (genre_stats['spoilers_count'] / genre_stats['total_count']) * 100\n",
        "\n",
        "genre_stats = genre_stats.sort_values(by='spoiler_percentage', ascending=False)\n",
        "\n",
        "print(\"Individual Genre Stats:\")\n",
        "print(genre_stats)"
      ],
      "metadata": {
        "colab": {
          "base_uri": "https://localhost:8080/"
        },
        "id": "BxOInBeSu6-T",
        "outputId": "25b3c359-70fd-4e27-abc5-8d93321e7b66"
      },
      "execution_count": null,
      "outputs": [
        {
          "output_type": "stream",
          "name": "stdout",
          "text": [
            "Individual Genre Stats:\n",
            "           spoilers_count  total_count  spoiler_percentage\n",
            "genre                                                     \n",
            "Horror                378         1199           31.526272\n",
            "Music                 273          881           30.987514\n",
            "Sci-Fi               1175         3989           29.456004\n",
            "Mystery              1492         5185           28.775313\n",
            "Action               2766         9743           28.389613\n",
            "Thriller             1567         5697           27.505705\n",
            "Film-Noir             104          394           26.395939\n",
            "Family                397         1531           25.930764\n",
            "Animation             610         2379           25.641026\n",
            "Romance               369         1450           25.448276\n",
            "Crime                4947        19811           24.970976\n",
            "Drama                9593        39251           24.440142\n",
            "Western               396         1633           24.249847\n",
            "Biography             706         3020           23.377483\n",
            "Adventure            2415        10548           22.895336\n",
            "History               361         1580           22.848101\n",
            "Comedy                533         2440           21.844262\n",
            "War                   648         2980           21.744966\n",
            "Fantasy              1197         6067           19.729685\n"
          ]
        }
      ]
    },
    {
      "cell_type": "code",
      "source": [
        "combined_df['genre_string'] = combined_df['genre'].apply(lambda x: str(x))\n",
        "combined_genre_counts = combined_df['genre_string'].value_counts()\n",
        "\n",
        "combined_genre_stats = pd.DataFrame({\n",
        "    'combined_count': combined_genre_counts})\n",
        "\n",
        "print(\"\\nCombined Genre Stats:\")\n",
        "print(combined_genre_stats)"
      ],
      "metadata": {
        "colab": {
          "base_uri": "https://localhost:8080/"
        },
        "id": "TYP2YHEwxQCR",
        "outputId": "8ff3cf17-a75f-4839-b053-ded7e9a5f602"
      },
      "execution_count": null,
      "outputs": [
        {
          "output_type": "stream",
          "name": "stdout",
          "text": [
            "\n",
            "Combined Genre Stats:\n",
            "                                       combined_count\n",
            "genre_string                                         \n",
            "['Crime', 'Drama']                              11136\n",
            "['Action', 'Crime', 'Drama']                     4845\n",
            "['Drama']                                        3785\n",
            "['Adventure', 'Drama', 'Fantasy']                3573\n",
            "['Crime', 'Drama', 'Thriller']                   1851\n",
            "['Biography', 'Drama', 'History']                1580\n",
            "['Mystery', 'Thriller']                          1363\n",
            "['Action', 'Adventure', 'Fantasy']               1256\n",
            "['Crime', 'Drama', 'Mystery']                    1197\n",
            "['Western']                                      1153\n",
            "['Drama', 'War']                                 1120\n",
            "['Drama', 'Mystery', 'Sci-Fi']                    959\n",
            "['Animation', 'Adventure', 'Family']              920\n",
            "['Action', 'Adventure', 'Sci-Fi']                 830\n",
            "['Comedy', 'Drama', 'War']                        612\n",
            "['Drama', 'Music']                                485\n",
            "['Drama', 'Western']                              480\n",
            "['Action', 'Thriller']                            475\n",
            "['Adventure', 'Comedy', 'Sci-Fi']                 464\n",
            "['Adventure', 'Drama', 'Sci-Fi']                  462\n",
            "['Drama', 'Romance']                              455\n",
            "['Adventure', 'Drama']                            450\n",
            "['Action', 'Sci-Fi']                              447\n",
            "['Action', 'Sci-Fi', 'Thriller']                  438\n",
            "['Drama', 'Mystery']                              433\n",
            "['Action', 'Adventure', 'Drama']                  433\n",
            "['Drama', 'Family', 'Fantasy']                    432\n",
            "['Animation', 'Drama', 'War']                     432\n",
            "['Animation', 'Adventure', 'Fantasy']             429\n",
            "['Comedy', 'War']                                 420\n",
            "['Animation', 'Adventure', 'Drama']               414\n",
            "['Mystery', 'Romance', 'Thriller']                413\n",
            "['Horror', 'Mystery', 'Thriller']                 411\n",
            "['Action', 'Adventure', 'Mystery']                409\n",
            "['Biography', 'Crime', 'Drama']                   405\n",
            "['Drama', 'Horror']                               399\n",
            "['Drama', 'Romance', 'War']                       396\n",
            "['Biography', 'Drama', 'Music']                   396\n",
            "['Biography', 'Comedy', 'Drama']                  395\n",
            "['Drama', 'Film-Noir']                            394\n",
            "['Horror', 'Sci-Fi']                              389\n",
            "['Drama', 'Thriller']                             388\n",
            "['Crime', 'Drama', 'Fantasy']                     377\n",
            "['Action', 'Adventure']                           366\n",
            "['Adventure', 'Drama', 'Thriller']                358\n",
            "['Action', 'Biography', 'Drama']                  244\n",
            "['Comedy', 'Drama', 'Romance']                    186\n",
            "['Animation', 'Adventure', 'Comedy']              184\n",
            "['Comedy', 'Drama', 'Family']                     179\n"
          ]
        }
      ]
    },
    {
      "cell_type": "code",
      "source": [
        "plt.figure(figsize=(10, 6))\n",
        "genre_stats['spoiler_percentage'].plot(kind='barh', color=sns.color_palette('Reds_r', len(genre_stats)))\n",
        "\n",
        "plt.xlabel(\"Spoiler percentage (%)\")\n",
        "plt.ylabel(\"Genre\")\n",
        "plt.title(\"Spoiler percentage per genre\")\n",
        "plt.gca().spines[['top', 'right']].set_visible(False)\n",
        "plt.show()"
      ],
      "metadata": {
        "colab": {
          "base_uri": "https://localhost:8080/",
          "height": 564
        },
        "id": "mF7lqgOrm_FK",
        "outputId": "76d56122-0cae-457e-f2f6-831c16fe2d1c"
      },
      "execution_count": null,
      "outputs": [
        {
          "output_type": "display_data",
          "data": {
            "text/plain": [
              "<Figure size 1000x600 with 1 Axes>"
            ],
            "image/png": "[encoded data removed]"
          },
          "metadata": {}
        }
      ]
    },
    {
      "cell_type": "code",
      "source": [
        "import matplotlib.pyplot as plt\n",
        "import seaborn as sns\n",
        "\n",
        "# Assuming you have the combined_genre_stats DataFrame from the previous code\n",
        "\n",
        "plt.figure(figsize=(15, 10))  # Adjust figure size if needed\n",
        "\n",
        "# Create the bar plot using combined_count\n",
        "plt.barh(combined_genre_stats.index, combined_genre_stats['combined_count'],\n",
        "         color=sns.color_palette(\"Blues_r\", len(combined_genre_stats))) # Change color palette if desired\n",
        "\n",
        "plt.xlabel(\"Combined Genre Count\")\n",
        "plt.ylabel(\"Combined Genre\")\n",
        "plt.title(\"Combined Genre Counts\")\n",
        "\n",
        "# Remove top and right spines for cleaner look\n",
        "plt.gca().spines[['top', 'right']].set_visible(False)\n",
        "\n",
        "plt.show()"
      ],
      "metadata": {
        "colab": {
          "base_uri": "https://localhost:8080/",
          "height": 872
        },
        "id": "_WA3dcYPyvTI",
        "outputId": "aff3d623-e77e-4a2b-f3a3-8d5c5817ff83"
      },
      "execution_count": null,
      "outputs": [
        {
          "output_type": "display_data",
          "data": {
            "text/plain": [
              "<Figure size 1500x1000 with 1 Axes>"
            ],
            "image/png": "[encoded data removed]"
          },
          "metadata": {}
        }
      ]
    },
    {
      "cell_type": "code",
      "source": [
        "import matplotlib.pyplot as plt\n",
        "import pandas as pd\n",
        "import seaborn as sns\n",
        "\n",
        "# Assuming your DataFrame is named 'df' with columns 'genre' and 'spoiler'\n",
        "# and 'spoiler' is a boolean column (True/False)\n",
        "\n",
        "def plot_stacked_histograms(df, genre_col = 'genre', spoiler_col = 'spoiler'):\n",
        "    \"\"\"\n",
        "    Creates stacked histograms of spoiler distribution by genre.\n",
        "\n",
        "    Args:\n",
        "        df (pd.DataFrame): DataFrame with genre and spoiler information.\n",
        "        genre_col (str): Name of the genre column.\n",
        "        spoiler_col (str): Name of the spoiler column (boolean).\n",
        "    \"\"\"\n",
        "\n",
        "    # Check if the required columns exist\n",
        "    if genre_col not in df.columns or spoiler_col not in df.columns:\n",
        "        print(f\"Error: Columns '{genre_col}' or '{spoiler_col}' not found in DataFrame.\")\n",
        "        return\n",
        "\n",
        "    # Group by genre and spoiler, and count the occurrences\n",
        "    grouped = df.groupby([genre_col, spoiler_col]).size().unstack(fill_value=0)\n",
        "\n",
        "    # Plot the stacked histograms\n",
        "    grouped.plot(kind='bar', stacked=True, figsize=(10, 6))\n",
        "    plt.title('Spoiler Distribution by Genre')\n",
        "    plt.xlabel('Genre')\n",
        "    plt.ylabel('Number of Reviews')\n",
        "    plt.xticks(rotation=45, ha='right')  # Rotate x-axis labels for better readability\n",
        "    plt.legend(title='Spoiler', labels=['No Spoiler', 'Spoiler']) # Add legend\n",
        "\n",
        "    plt.tight_layout()  # Adjust layout to prevent clipping of labels\n",
        "    plt.show()\n",
        "\n",
        "reviews_df = pd.DataFrame(combined_df_exploded)\n",
        "\n",
        "plot_stacked_histograms(reviews_df, genre_col='genre', spoiler_col='is_spoiler')"
      ],
      "metadata": {
        "colab": {
          "base_uri": "https://localhost:8080/",
          "height": 607
        },
        "id": "BgWZ3r2rpLko",
        "outputId": "77c99bb0-ec20-40fe-b0b6-a0aae47f1d19"
      },
      "execution_count": null,
      "outputs": [
        {
          "output_type": "display_data",
          "data": {
            "text/plain": [
              "<Figure size 1000x600 with 1 Axes>"
            ],
            "image/png": "[encoded data removed]"
          },
          "metadata": {}
        }
      ]
    },
    {
      "cell_type": "markdown",
      "source": [
        "### Most common words for spoilers"
      ],
      "metadata": {
        "id": "mD4HQ46kfFYz"
      }
    },
    {
      "cell_type": "code",
      "source": [
        "import pandas as pd\n",
        "import matplotlib.pyplot as plt\n",
        "import seaborn as sns\n",
        "import re\n",
        "from collections import Counter\n",
        "import nltk\n",
        "from nltk.corpus import stopwords\n",
        "\n",
        "# loading stopwords\n",
        "nltk.download('stopwords')\n",
        "stop_words = set(stopwords.words('english'))\n",
        "\n",
        "combined_df_exploded['is_spoiler'] = combined_df_exploded['is_spoiler'].astype(bool)\n",
        "\n",
        "# Filter only spoiler reviews\n",
        "spoiler_reviews = combined_df_exploded[combined_df_exploded['is_spoiler'] == True]\n",
        "\n",
        "def preprocess_text(text):\n",
        "    text = text.lower()\n",
        "    text = re.sub(r'[^\\w\\s]', '', text)\n",
        "    words = text.split()\n",
        "    words = [word for word in words if word not in stop_words]\n",
        "    return ' '.join(words)\n",
        "\n",
        "spoiler_reviews['processed_text'] = spoiler_reviews['review_text'].apply(preprocess_text)\n",
        "\n",
        "all_words = ' '.join(spoiler_reviews['processed_text']).split()\n",
        "\n",
        "word_counts = Counter(all_words)\n",
        "\n",
        "most_common_word, most_common_count = word_counts.most_common(1)[0]\n",
        "\n",
        "print(f\"The most common word in spoiler reviews: '{most_common_word}' with frequency {most_common_count}\")\n"
      ],
      "metadata": {
        "colab": {
          "base_uri": "https://localhost:8080/"
        },
        "id": "YTOQLlIhEvSw",
        "outputId": "ba8affa9-3988-4172-b2ea-20ffade4ec99"
      },
      "execution_count": null,
      "outputs": [
        {
          "output_type": "stream",
          "name": "stderr",
          "text": [
            "[nltk_data] Downloading package stopwords to /root/nltk_data...\n",
            "[nltk_data]   Unzipping corpora/stopwords.zip.\n",
            "<ipython-input-34-876f83951e91>:25: SettingWithCopyWarning: \n",
            "A value is trying to be set on a copy of a slice from a DataFrame.\n",
            "Try using .loc[row_indexer,col_indexer] = value instead\n",
            "\n",
            "See the caveats in the documentation: https://pandas.pydata.org/pandas-docs/stable/user_guide/indexing.html#returning-a-view-versus-a-copy\n",
            "  spoiler_reviews['processed_text'] = spoiler_reviews['review_text'].apply(preprocess_text)\n"
          ]
        },
        {
          "output_type": "stream",
          "name": "stdout",
          "text": [
            "The most common word in spoiler reviews: 'movie' with frequency 82622\n"
          ]
        }
      ]
    },
    {
      "cell_type": "code",
      "source": [
        "top_10_words = word_counts.most_common(10)\n",
        "\n",
        "words, counts = zip(*top_10_words)\n",
        "plt.figure(figsize=(10, 6))\n",
        "plt.barh(words, counts, color='skyblue')\n",
        "plt.xlabel('Frequency')\n",
        "plt.ylabel('Word')\n",
        "plt.title('Top-10 most common words in spoiler reviews')\n",
        "plt.gca().invert_yaxis()\n",
        "plt.show()"
      ],
      "metadata": {
        "id": "GklIxtqSW9xf",
        "colab": {
          "base_uri": "https://localhost:8080/",
          "height": 564
        },
        "outputId": "f3de885e-b5d1-4dfe-b0cc-11cfb24e7856"
      },
      "execution_count": null,
      "outputs": [
        {
          "output_type": "display_data",
          "data": {
            "text/plain": [
              "<Figure size 1000x600 with 1 Axes>"
            ],
            "image/png": "[encoded data removed]"
          },
          "metadata": {}
        }
      ]
    },
    {
      "cell_type": "markdown",
      "source": [
        "### Average length of all reviews and synopsises"
      ],
      "metadata": {
        "id": "m35jWCYlfMqC"
      }
    },
    {
      "cell_type": "code",
      "source": [
        "# Функция для подсчета количества слов в тексте\n",
        "def count_words(text):\n",
        "    return len(text.split())\n",
        "\n",
        "combined_df_exploded['review_word_count'] = combined_df_exploded['review_text'].apply(count_words)\n",
        "avg_review_words = combined_df_exploded['review_word_count'].mean()\n",
        "\n",
        "# Подсчет среднего количества слов в саммари фильма\n",
        "combined_df_exploded['synopsis_word_count'] = combined_df_exploded['plot_synopsis'].fillna('').apply(count_words)\n",
        "avg_synopsis_words = combined_df_exploded['synopsis_word_count'].mean()\n",
        "\n",
        "print(f\"Average words in all the reviews: {avg_review_words:.2f}\")\n",
        "print(f\"Average words in all the synopsis: {avg_synopsis_words:.2f}\")\n",
        "\n",
        "\n",
        "def preprocess_text(text):\n",
        "    text = text.lower()\n",
        "    text = re.sub(r'[^\\w\\s]', '', text)\n",
        "    words = text.split()\n",
        "    words = [word for word in words if word not in stop_words]\n",
        "    return ' '.join(words)\n",
        "\n",
        "combined_df_exploded['processed_review'] = combined_df_exploded['review_text'].apply(preprocess_text)\n",
        "combined_df_exploded['processed_synopsis'] = combined_df_exploded['plot_synopsis'].apply(preprocess_text)\n",
        "\n",
        "combined_df_exploded['processed_review_count'] = combined_df_exploded['processed_review'].apply(count_words)\n",
        "avg_proc_review_words = combined_df_exploded['processed_review_count'].mean()\n",
        "\n",
        "combined_df_exploded['processed_synopsis_count'] = combined_df_exploded['processed_synopsis'].apply(count_words)\n",
        "avg_proc_synopsis_words = combined_df_exploded['processed_synopsis_count'].mean()\n",
        "\n",
        "print(f\"Average preprocessed words in all the reviews: {avg_proc_review_words:.2f}\")\n",
        "print(f\"Average preprocessed words in all the synopsis: {avg_proc_synopsis_words:.2f}\")"
      ],
      "metadata": {
        "id": "dTFpg6ChfZ7v",
        "colab": {
          "base_uri": "https://localhost:8080/"
        },
        "outputId": "e1c62e77-e71a-4cb2-83b2-180745fd04c5"
      },
      "execution_count": null,
      "outputs": [
        {
          "output_type": "stream",
          "name": "stdout",
          "text": [
            "Average words in all the reviews: 252.41\n",
            "Average words in all the synopsis: 3036.00\n",
            "Average preprocessed words in all the reviews: 131.78\n",
            "Average preprocessed words in all the synopsis: 1634.71\n"
          ]
        }
      ]
    },
    {
      "cell_type": "markdown",
      "source": [
        "### Average length of spoiler reviews"
      ],
      "metadata": {
        "id": "wvPgBmY5H-2q"
      }
    },
    {
      "cell_type": "code",
      "source": [
        "combined_df_exploded['is_spoiler'] = combined_df_exploded['is_spoiler'].astype(bool)\n",
        "\n",
        "spoiler_reviews = combined_df_exploded.loc[combined_df_exploded['is_spoiler'] == True].copy()\n",
        "\n",
        "def preprocess_text(text):\n",
        "    text = text.lower()\n",
        "    text = re.sub(r'[^\\w\\s]', '', text)\n",
        "    words = text.split()\n",
        "    words = [word for word in words if word not in stop_words]\n",
        "    return ' '.join(words)\n",
        "\n",
        "spoiler_reviews['processed_text'] = spoiler_reviews['review_text'].apply(preprocess_text)\n",
        "\n",
        "spoiler_reviews['word_count'] = spoiler_reviews['processed_text'].apply(count_words)\n",
        "\n",
        "avg_spoiler_words = spoiler_reviews['word_count'].mean()\n",
        "\n",
        "print(f\"Average preprocessed words in spoiler reviews: {avg_spoiler_words:.2f}\")"
      ],
      "metadata": {
        "id": "AfyEymIGcfhP",
        "outputId": "174fcbe7-feac-48d5-9296-0c51e3b1b865",
        "colab": {
          "base_uri": "https://localhost:8080/"
        }
      },
      "execution_count": null,
      "outputs": [
        {
          "output_type": "stream",
          "name": "stdout",
          "text": [
            "Average preprocessed words in spoiler reviews: 177.05\n"
          ]
        }
      ]
    },
    {
      "cell_type": "markdown",
      "source": [
        "### Average number of names in spoilers"
      ],
      "metadata": {
        "id": "E4pcUClEfa1g"
      }
    },
    {
      "cell_type": "code",
      "source": [
        "import spacy\n",
        "import pandas as pd\n",
        "from tqdm import tqdm  # Shows the progress\n",
        "\n",
        "nlp = spacy.load(\"en_core_web_sm\")\n",
        "\n",
        "def count_names_in_texts(texts):\n",
        "    name_counts = []\n",
        "    for doc in tqdm(nlp.pipe(texts, batch_size=50, disable=[\"tagger\", \"parser\"]), total=len(texts)):\n",
        "        name_counts.append(sum(1 for ent in doc.ents if ent.label_ == \"PERSON\"))\n",
        "    return name_counts\n",
        "\n",
        "combined_df_exploded['is_spoiler'] = combined_df_exploded['is_spoiler'].astype(bool)\n",
        "\n",
        "spoiler_reviews = combined_df_exploded[combined_df_exploded['is_spoiler']].copy()\n",
        "\n",
        "# Cutting off long texts\n",
        "spoiler_reviews['review_text'] = spoiler_reviews['review_text'].astype(str).str[:1000]\n",
        "\n",
        "spoiler_reviews['name_count'] = count_names_in_texts(spoiler_reviews['review_text'].tolist())\n",
        "\n",
        "avg_spoiler_names = spoiler_reviews['name_count'].mean()\n",
        "\n",
        "print(f\"Average number of names in spoiler reviews: {avg_spoiler_names:.2f}\")\n"
      ],
      "metadata": {
        "id": "kNaqbkkpWjAx",
        "outputId": "5f901302-e55c-4033-cc20-9af71f2a5bf0",
        "colab": {
          "base_uri": "https://localhost:8080/"
        }
      },
      "execution_count": null,
      "outputs": [
        {
          "output_type": "stream",
          "name": "stderr",
          "text": [
            "\r  0%|          | 0/29927 [00:00<?, ?it/s]/usr/local/lib/python3.11/dist-packages/spacy/pipeline/lemmatizer.py:211: UserWarning: [W108] The rule-based lemmatizer did not find POS annotation for one or more tokens. Check that your pipeline includes components that assign token.pos, typically 'tagger'+'attribute_ruler' or 'morphologizer'.\n",
            "  warnings.warn(Warnings.W108)\n",
            " 84%|████████▍ | 25150/29927 [09:51<01:52, 42.49it/s]\n",
            "\n",
            "KeyboardInterrupt\n",
            "\n"
          ]
        }
      ]
    },
    {
      "cell_type": "markdown",
      "source": [
        "### Comparison between the non-spoler summaries and spoiler review (what makes spoiler a spoiler, BLEU etc.)"
      ],
      "metadata": {
        "id": "LW6vCFzXG78f"
      }
    },
    {
      "cell_type": "code",
      "source": [],
      "metadata": {
        "id": "SWiTJ6pHGIZu"
      },
      "execution_count": null,
      "outputs": []
    },
    {
      "cell_type": "markdown",
      "source": [
        "## **Classical Machine Learning Algorythms**"
      ],
      "metadata": {
        "id": "uC2XNEG7GCjc"
      }
    },
    {
      "cell_type": "markdown",
      "source": [
        "### NLTK Clasifier"
      ],
      "metadata": {
        "id": "udLRM6WDGK03"
      }
    },
    {
      "cell_type": "code",
      "source": [
        "import nltk"
      ],
      "metadata": {
        "id": "vycsGdJ1G1W7"
      },
      "execution_count": null,
      "outputs": []
    },
    {
      "cell_type": "code",
      "source": [
        "def spolier_features(review: str) -> dict[str, float]:\n",
        "  # Which features can we use to detect the a spoiler?\n",
        "  # Craft at least one feature and return it as a feature dictionary\n",
        "\n",
        "#ends_with_unique_female_endings = 1 if any(first_name.endswith(ending) for ending in unique_female_endings) else 0 # for female names\n",
        "#ends_with_unique_male_endings = 1 if any(first_name.endswith(ending) for ending in unique_male_endings) else 0 # for male names\n",
        "\n",
        "  return {\n",
        "      'avg_spoiler_names': avg_spoiler_names,\n",
        "      'avg_spoiler_words': avg_spoiler_words,\n",
        "      'name_length': name_length,\n",
        "      'ends_with_unique_female_endings': ends_with_unique_female_endings,\n",
        "      'ends_with_unique_male_endings': ends_with_unique_female_endings\n",
        "      }"
      ],
      "metadata": {
        "id": "TuDjswq7GM4v"
      },
      "execution_count": null,
      "outputs": []
    },
    {
      "cell_type": "code",
      "source": [
        "# function check\n",
        "print(gender_features('Abagael'))\n",
        "print(gender_features('Aaron'))"
      ],
      "metadata": {
        "id": "R9SorK1XGbOc"
      },
      "execution_count": null,
      "outputs": []
    },
    {
      "cell_type": "code",
      "source": [
        "feature_sets = [(gender_features(first_name), gender) for (first_name, gender) in labeled_names]\n",
        "\n",
        "# We split the dataset to create a previously unseen 'exam' for the model:\n",
        "train_set, test_set = feature_sets[500:], feature_sets[:500]\n",
        "\n",
        "# And then, define and train the NLTK classifier\n",
        "name_classifier = nltk.DecisionTreeClassifier.train(train_set)"
      ],
      "metadata": {
        "id": "QpsUeNUMGmjL"
      },
      "execution_count": null,
      "outputs": []
    },
    {
      "cell_type": "code",
      "source": [
        "for name in [\"Bill\", \"Melissa\", \"Barack\", \"Michelle\", \"Joe\", \"Jill\", \"Donald\", \"Ivanka\"]:\n",
        "  predicted_gender = name_classifier.classify(gender_features(name))\n",
        "  print(f\"the gender prediction for {name} is {predicted_gender}\")"
      ],
      "metadata": {
        "id": "MfQGZF70Goyr"
      },
      "execution_count": null,
      "outputs": []
    },
    {
      "cell_type": "code",
      "source": [
        "print(nltk.classify.accuracy(name_classifier, test_set))"
      ],
      "metadata": {
        "id": "51RgdwOiGwtO"
      },
      "execution_count": null,
      "outputs": []
    },
    {
      "cell_type": "code",
      "source": [
        "print(name_classifier.pretty_format())"
      ],
      "metadata": {
        "id": "zM4PqS5EG4lH"
      },
      "execution_count": null,
      "outputs": []
    },
    {
      "cell_type": "markdown",
      "source": [
        "### Decision Tree from Scikit-Learn - code from Liad's homework"
      ],
      "metadata": {
        "id": "ksasAoY0HZvG"
      }
    },
    {
      "cell_type": "code",
      "source": [
        "import numpy as np\n",
        "\n",
        "from sklearn import tree\n",
        "from sklearn.model_selection import train_test_split\n",
        "from sklearn.metrics import classification_report\n",
        "\n",
        "from matplotlib import pyplot as plt"
      ],
      "metadata": {
        "id": "z99ZLvoPHf1n"
      },
      "execution_count": null,
      "outputs": []
    },
    {
      "cell_type": "code",
      "source": [
        "# Maps to convert labels into numerical ids:\n",
        "\n",
        "label2idx = {'male':0, 'female': 1}\n",
        "idx2label = {0: 'male', 1: 'female'}"
      ],
      "metadata": {
        "id": "eamlrrx6HgOu"
      },
      "execution_count": null,
      "outputs": []
    },
    {
      "cell_type": "code",
      "source": [
        "X = male_names + female_names\n",
        "y = [label2idx['male']] * len(male_names) + [label2idx['female']] * len(female_names)"
      ],
      "metadata": {
        "id": "Di_od497HqTy"
      },
      "execution_count": null,
      "outputs": []
    },
    {
      "cell_type": "code",
      "source": [
        "X_train, X_test, y_train, y_test = train_test_split(X, y, shuffle=True, random_state=1234, stratify=y)"
      ],
      "metadata": {
        "id": "BLdYRH_gHs6G"
      },
      "execution_count": null,
      "outputs": []
    },
    {
      "cell_type": "code",
      "source": [
        "assert len(X_train) == len(y_train)\n",
        "assert len(X_test) == len(y_test)"
      ],
      "metadata": {
        "id": "6A00L5YnIAS6"
      },
      "execution_count": null,
      "outputs": []
    },
    {
      "cell_type": "code",
      "source": [
        "# Initializing Decision Tree:\n",
        "clf = tree.DecisionTreeClassifier(max_depth=2, random_state=1234)"
      ],
      "metadata": {
        "id": "dDyEtt8HIB6x"
      },
      "execution_count": null,
      "outputs": []
    },
    {
      "cell_type": "code",
      "source": [
        "#And of course, we need our Feature Function again.\n",
        "#However, unlike NLTK, which required a dictionary of features, when working with SKLearn, we need to use a list of numerical features (a vector).\n",
        "\n",
        "#Here, we just return the last letter of the name as a feature. The python function ord returns the unicode numerical code of the character.\n",
        "\n",
        "def gender_feature_function(first_name: str) -> list[float]:\n",
        "  \"\"\"\n",
        "  Given a first name, return the features to represent it.\n",
        "\n",
        "  Args:\n",
        "    first_name (string): a string representing a first name.\n",
        "\n",
        "  Returns:\n",
        "    A list of numerical features\n",
        "  \"\"\"\n",
        "  last_letter_code = ord(first_name[-1])\n",
        "  return [last_letter_code]\n",
        "assert gender_feature_function(\"Željko\") == [111] #print(ord('o'))!"
      ],
      "metadata": {
        "id": "hyd6c7tpIcc2"
      },
      "execution_count": null,
      "outputs": []
    },
    {
      "cell_type": "code",
      "source": [
        "#Now we can use our feature function and convert our data into numerical features:\n",
        "\n",
        "X_train = list(map(gender_feature_function, X_train))\n",
        "X_test = list(map(gender_feature_function, X_test))\n",
        "X_train[:10]\n",
        "#[[101], [104], [121], [102], [101], [114], [110], [101], [97], [101]]"
      ],
      "metadata": {
        "id": "4I-DywFiIkh7"
      },
      "execution_count": null,
      "outputs": []
    },
    {
      "cell_type": "code",
      "source": [
        "#Before using our training data vector for training the model, we often need to convert it from a python list, into a NumPy array. NumPy is an excellent python pacakge for handling mathematical operations with Python.\n",
        "\n",
        "X_train = np.array(X_train)\n",
        "X_test = np.array(X_test)\n",
        "X_train.shape\n",
        "(5958, 1)\n",
        "X_train[:10]\n",
        "array([[101],\n",
        "       [104],\n",
        "       [121],\n",
        "       [102],\n",
        "       [101],\n",
        "       [114],\n",
        "       [110],\n",
        "       [101],\n",
        "       [ 97],\n",
        "       [101]])"
      ],
      "metadata": {
        "id": "ZrmuNqI1ItEA"
      },
      "execution_count": null,
      "outputs": []
    },
    {
      "cell_type": "code",
      "source": [
        "#Let's take a peek and ensure our data is in the way we want it to be:\n",
        "\n",
        "# zip is a python method to combine (merge) two lists into one\n",
        "# with it, we can see our features, and the labels, together as a lsit of tuples\n",
        "print(list(zip(X_train[:5], y_train[:5])))\n",
        "[(array([101]), 0), (array([104]), 1), (array([121]), 1), (array([102]), 0), (array([101]), 1)]"
      ],
      "metadata": {
        "id": "NkEzk5vhIvOR"
      },
      "execution_count": null,
      "outputs": []
    },
    {
      "cell_type": "code",
      "source": [
        "# And finally, we are ready to train our model:\n",
        "clf = clf.fit(X_train, y_train)"
      ],
      "metadata": {
        "id": "zcjpQInLIxEX"
      },
      "execution_count": null,
      "outputs": []
    },
    {
      "cell_type": "code",
      "source": [
        "#Visualizing our tree\n",
        "#We have trained a model, and now we want to understand how this model operates: Which features got more importance, which less, and in which way?\n",
        "\n",
        "tree.plot_tree(clf, feature_names = [\"last_letter\"])\n",
        "plt.show()"
      ],
      "metadata": {
        "id": "RPvU4yyTI8tJ"
      },
      "execution_count": null,
      "outputs": []
    },
    {
      "cell_type": "code",
      "source": [
        "#Now that we have a model, we can evaluate how well we did.\n",
        "#SKLearn has many different metrics to test our model. For classification tasks, the most common are:\n",
        "#Precision\n",
        "#Recall\n",
        "#F-Score\n",
        "#Area under curve (AUC)\n",
        "#Mathew's Correlation Coefficience (MCC)\n",
        "#But many more exists, and it depends on the task in hand, to decide which one would represent our data set.\n",
        "\n",
        "#Note: Be careful and don't blindly trust the metrics. Always be judgemental and stay critical about your results and achievements. Here's an excellent video about the topic - and why we should suspect our resutls.\n",
        "\n",
        "predictions = clf.predict(X_test)\n",
        "print(classification_report(y_test, predictions))"
      ],
      "metadata": {
        "id": "GEy2yr_VJAQz"
      },
      "execution_count": null,
      "outputs": []
    },
    {
      "cell_type": "code",
      "source": [
        "#We can use graphviz to visualize the tree we trained, to understand which features are more important, and therefore have more weight.\n",
        "#Graphviz creates an image of the tree, which looks something like this:\n",
        "import graphviz\n",
        "\n",
        "dot_data = tree.export_graphviz(clf,\n",
        "                                out_file=None,\n",
        "                                feature_names=['last_letter'],\n",
        "                                class_names=[\"male\", \"female\"],\n",
        "                                filled=True,\n",
        "                                rounded=True,\n",
        "                               )\n",
        "graph = graphviz.Source(dot_data)\n",
        "graph.view()\n",
        "'Source.gv.pdf'\n"
      ],
      "metadata": {
        "id": "BAoPR6RVJF9a"
      },
      "execution_count": null,
      "outputs": []
    },
    {
      "cell_type": "code",
      "source": [
        "#SuperTree\n",
        "#SuperTree is a newer interactive visualization package that helps us exploring decision trees It's an open source package, and you can find more about it here: https://github.com/mljar/supertree\n",
        "\n",
        "%pip install supertree --quiet\n",
        "from supertree import SuperTree\n",
        "super_tree = SuperTree(clf,\n",
        "                       X_test,\n",
        "                       y_test,\n",
        "                       feature_names=['last_letter'],\n",
        "                       target_names=[\"male\", \"female\"])\n"
      ],
      "metadata": {
        "id": "09CkhmafJINv"
      },
      "execution_count": null,
      "outputs": []
    },
    {
      "cell_type": "code",
      "source": [
        "# show tree in your notebook\n",
        "super_tree.show_tree()"
      ],
      "metadata": {
        "id": "_etHeumUJNM-"
      },
      "execution_count": null,
      "outputs": []
    },
    {
      "cell_type": "markdown",
      "source": [
        "### Random Forest"
      ],
      "metadata": {
        "id": "0CTbxWZqJQPF"
      }
    },
    {
      "cell_type": "code",
      "source": [],
      "metadata": {
        "id": "4OIKBaOdJf4j"
      },
      "execution_count": null,
      "outputs": []
    },
    {
      "cell_type": "markdown",
      "source": [
        "### Naive Bayes"
      ],
      "metadata": {
        "id": "9NhvNoVTJrZz"
      }
    },
    {
      "cell_type": "code",
      "source": [
        "import pandas as pd\n",
        "import matplotlib.pyplot as plt\n",
        "import seaborn as sn\n",
        "\n",
        "from sklearn import metrics\n",
        "from sklearn.feature_extraction.text import CountVectorizer, TfidfTransformer\n",
        "from sklearn.model_selection import train_test_split\n",
        "from sklearn.naive_bayes import MultinomialNB, ComplementNB\n",
        "from sklearn.pipeline import Pipeline\n",
        "\n",
        "%matplotlib inline"
      ],
      "metadata": {
        "id": "BVm-krU8Jtv5"
      },
      "execution_count": null,
      "outputs": []
    },
    {
      "cell_type": "code",
      "source": [
        "is_spoiler_df.tail"
      ],
      "metadata": {
        "id": "bSJ2lMuKn2hU"
      },
      "execution_count": null,
      "outputs": []
    },
    {
      "cell_type": "code",
      "source": [
        "import numpy as np\n",
        "from sklearn.model_selection import train_test_split\n",
        "\n",
        "X = is_spoiler_df['review']\n",
        "y = is_spoiler_df['is_spoiler']\n",
        "\n",
        "X_train, X_test, y_train, y_test = train_test_split(X, y, test_size= 750, train_size= 2250)"
      ],
      "metadata": {
        "id": "lapyamo-oHDI"
      },
      "execution_count": null,
      "outputs": []
    },
    {
      "cell_type": "code",
      "source": [
        "print(X_train)"
      ],
      "metadata": {
        "id": "rk4Z7t9yoa0p"
      },
      "execution_count": null,
      "outputs": []
    },
    {
      "cell_type": "code",
      "source": [
        "print(y_train)"
      ],
      "metadata": {
        "id": "06fcKzzMoims"
      },
      "execution_count": null,
      "outputs": []
    },
    {
      "cell_type": "markdown",
      "source": [
        "https://scikit-learn.org/stable/modules/generated/sklearn.pipeline.Pipeline.html\n",
        "\n"
      ],
      "metadata": {
        "id": "HYEKFN_wov-v"
      }
    },
    {
      "cell_type": "code",
      "source": [
        "spoler_classifier = Pipeline([('vect', CountVectorizer()), ('tfidf', TfidfTransformer()), ('clf', MultinomialNB()), ])"
      ],
      "metadata": {
        "id": "nrH-LlARomas"
      },
      "execution_count": null,
      "outputs": []
    },
    {
      "cell_type": "markdown",
      "source": [
        "## References\n",
        "\n",
        "*   Dataset:  https://www.kaggle.com/datasets/rmisra/imdb-spoiler-dataset?resource=download&select=IMDB_reviews.json\n",
        "*   ...\n"
      ],
      "metadata": {
        "id": "JgxNdfqQYl_f"
      }
    }
  ]
}